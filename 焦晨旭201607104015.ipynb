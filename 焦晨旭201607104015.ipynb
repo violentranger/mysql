{
 "cells": [
  {
   "cell_type": "markdown",
   "metadata": {},
   "source": [
    "# 数学函数、字符串和对象\n",
    "## 本章介绍Python函数来执行常见的数学运算\n",
    "- 函数是完成一个特殊任务的一组语句，可以理解为一个函数相当于一个小功能，但是在开发中，需要注意一个函数的长度最好不要超过一屏\n",
    "- Python中的内置函数是不需要Import导入的\n",
    "<img src=\"../Photo/15.png\"></img>"
   ]
  },
  {
   "cell_type": "markdown",
   "metadata": {},
   "source": [
    "## 尝试练习Python内置函数"
   ]
  },
  {
   "cell_type": "markdown",
   "metadata": {},
   "source": [
    "## Python中的math模块提供了许多数学函数\n",
    "<img src=\"../Photo/16.png\"></img>\n",
    "<img src=\"../Photo/17.png\"></img>\n"
   ]
  },
  {
   "cell_type": "markdown",
   "metadata": {},
   "source": [
    "## 两个数学常量PI和e，可以通过使用math.pi 和math.e调用"
   ]
  },
  {
   "cell_type": "markdown",
   "metadata": {},
   "source": [
    "## EP:\n",
    "- 通过math库，写一个程序，使得用户输入三个顶点(x,y)返回三个角度\n",
    "- 注意：Python计算角度为弧度制，需要将其转换为角度\n",
    "<img src=\"../Photo/18.png\">"
   ]
  },
  {
   "cell_type": "markdown",
   "metadata": {},
   "source": [
    "## 字符串和字符\n",
    "- 在Python中，字符串必须是在单引号或者双引号内，在多段换行的字符串中可以使用“”“\n",
    "- 在使用”“”时，给予其变量则变为字符串，否则当多行注释使用"
   ]
  },
  {
   "cell_type": "code",
   "execution_count": null,
   "metadata": {},
   "outputs": [],
   "source": [
    "x1,y1=eval(input('请输入坐标'))\n",
    "x2,y2= eval(input('请输入坐标'))\n",
    "x3,x3=eval(input('请输入坐标'))\n",
    "\n",
    "a=math.sqrt\n",
    "b=1\n",
    "c=math.sqrt(2)\n",
    "A=math.acos((math.pow(a,2)-math.pow(b,2)-math.pow(c,2))/(-2*b*c)\n",
    "B=math.acos((math.pow(b,2)-math.pow(a,2)-math.pow(c,2))/(-2*a*c)\n",
    "C=math.acos((math.pow(c,2)-math.pow(a,2)-math.pow(b,2))/(-2*b*a)\n",
    "A=math.degress(A)\n",
    "B=math.degress(B)"
   ]
  },
  {
   "cell_type": "code",
   "execution_count": null,
   "metadata": {},
   "outputs": [],
   "source": [
    "x1,y1=eval(input('请输入坐标'))\n",
    "print(x1,y2)"
   ]
  },
  {
   "cell_type": "code",
   "execution_count": null,
   "metadata": {},
   "outputs": [],
   "source": [
    "#type 查看类型\n",
    "#三个'''可以换行'''在里面可以继续加引号，可以当做文本使用，当不给予变量时 三引号当做注释作用（可换行注释）\n",
    "#其他不可以换行，不可以在里面加引号\n",
    "--单双不可以加入单双，但是可以加入双单\n"
   ]
  },
  {
   "cell_type": "code",
   "execution_count": 1,
   "metadata": {},
   "outputs": [
    {
     "ename": "SyntaxError",
     "evalue": "invalid syntax (<ipython-input-1-5004e23a3377>, line 1)",
     "output_type": "error",
     "traceback": [
      "\u001b[1;36m  File \u001b[1;32m\"<ipython-input-1-5004e23a3377>\"\u001b[1;36m, line \u001b[1;32m1\u001b[0m\n\u001b[1;33m    a=\"joker\" oid \"a\"\u001b[0m\n\u001b[1;37m                ^\u001b[0m\n\u001b[1;31mSyntaxError\u001b[0m\u001b[1;31m:\u001b[0m invalid syntax\n"
     ]
    }
   ],
   "source": [
    "a=\"joker\" oid \"a\""
   ]
  },
  {
   "cell_type": "code",
   "execution_count": 30,
   "metadata": {},
   "outputs": [],
   "source": [
    "b=\"joker ‘old’ a\""
   ]
  },
  {
   "cell_type": "markdown",
   "metadata": {},
   "source": [
    "## ASCII码与Unicode码\n",
    "- <img src=\"../Photo/19.png\"></img>\n",
    "- <img src=\"../Photo/20.png\"></img>\n",
    "- <img src=\"../Photo/21.png\"></img>"
   ]
  },
  {
   "cell_type": "markdown",
   "metadata": {},
   "source": [
    "## 函数ord、chr\n",
    "- ord 返回ASCII码值\n",
    "- chr 返回字符"
   ]
  },
  {
   "cell_type": "code",
   "execution_count": 3,
   "metadata": {},
   "outputs": [
    {
     "data": {
      "text/plain": [
       "97"
      ]
     },
     "execution_count": 3,
     "metadata": {},
     "output_type": "execute_result"
    }
   ],
   "source": [
    "ord('a')"
   ]
  },
  {
   "cell_type": "code",
   "execution_count": 12,
   "metadata": {},
   "outputs": [
    {
     "name": "stdout",
     "output_type": "stream",
     "text": [
      "0Ĭ\n"
     ]
    }
   ],
   "source": [
    "a=chr(ord('1')-1)\n",
    "b=chr(ord('2')*6)\n",
    "print(a+b)"
   ]
  },
  {
   "cell_type": "markdown",
   "metadata": {},
   "source": [
    "## EP:\n",
    "- 利用ord与chr进行简单邮箱加密"
   ]
  },
  {
   "cell_type": "markdown",
   "metadata": {},
   "source": [
    "## 转义序列 \\\\两个反斜杠\n",
    "- a = \"He said,\\\\\"Johon's program is easy to read\"\n",
    "- 转掉它原来的意思\n",
    "- 一般情况下只有当语句与默认方法相撞的时候，就需要转义"
   ]
  },
  {
   "cell_type": "markdown",
   "metadata": {},
   "source": [
    "## 高级print\n",
    "- 参数 end： 以什么方式结束打印\n",
    "- 默认换行打印"
   ]
  },
  {
   "cell_type": "code",
   "execution_count": 14,
   "metadata": {},
   "outputs": [
    {
     "name": "stdout",
     "output_type": "stream",
     "text": [
      "lueluelue^^^^hahaha\n"
     ]
    }
   ],
   "source": [
    "print('lueluelue',end='^^^^')\n",
    "print('hahaha')"
   ]
  },
  {
   "cell_type": "code",
   "execution_count": 15,
   "metadata": {},
   "outputs": [
    {
     "name": "stdout",
     "output_type": "stream",
     "text": [
      "joker^^^^is^^^^hahha\n"
     ]
    }
   ],
   "source": [
    "print('joker','is','hahha',sep='^^^^')"
   ]
  },
  {
   "cell_type": "code",
   "execution_count": null,
   "metadata": {},
   "outputs": [],
   "source": [
    "#进度条sys.stdout(标准输出)flush刷新\n"
   ]
  },
  {
   "cell_type": "markdown",
   "metadata": {},
   "source": [
    "## 函数str\n",
    "- 将类型强制转换成字符串类型\n",
    "- 其他一些以后会学到(list,set,tuple...)"
   ]
  },
  {
   "cell_type": "markdown",
   "metadata": {},
   "source": [
    "## 字符串连接操作\n",
    "- 直接使用 “+” \n",
    "- join() 函数 "
   ]
  },
  {
   "cell_type": "markdown",
   "metadata": {},
   "source": [
    "## EP：\n",
    "- 将 “Welcome” “to” \"Python\" 拼接\n",
    "- 将int型 100 与 “joker is a bad man” 拼接\n",
    "- 从控制台读取字符串\n",
    "> 输入一个名字返回夸奖此人"
   ]
  },
  {
   "cell_type": "code",
   "execution_count": 19,
   "metadata": {},
   "outputs": [
    {
     "name": "stdout",
     "output_type": "stream",
     "text": [
      "welcom  to  python\n"
     ]
    }
   ],
   "source": [
    "print('welcom','to','python',sep='  ')\n"
   ]
  },
  {
   "cell_type": "code",
   "execution_count": 22,
   "metadata": {},
   "outputs": [
    {
     "name": "stdout",
     "output_type": "stream",
     "text": [
      "100 joker is a bad man\n"
     ]
    }
   ],
   "source": [
    "a=100\n",
    "str(a)\n",
    "print('100','joker is a bad man')"
   ]
  },
  {
   "cell_type": "code",
   "execution_count": 1,
   "metadata": {},
   "outputs": [
    {
     "name": "stdout",
     "output_type": "stream",
     "text": [
      "输入名字焦晨旭\n",
      "焦晨旭变身魔法少女\n"
     ]
    }
   ],
   "source": [
    "name=input('输入名字')\n",
    "print(name+'变身魔法少女')"
   ]
  },
  {
   "cell_type": "markdown",
   "metadata": {},
   "source": [
    "## 实例研究：最小数量硬币\n",
    "- 开发一个程序，让用户输入总金额，这是一个用美元和美分表示的浮点值，返回一个由美元、两角五分的硬币、一角的硬币、五分硬币、以及美分个数\n",
    "<img src=\"../Photo/22.png\"></img>"
   ]
  },
  {
   "cell_type": "markdown",
   "metadata": {},
   "source": [
    "- Python弱项，对于浮点型的处理并不是很好，但是处理数据的时候使用的是Numpy类型\n",
    "<img src=\"../Photo/23.png\"></img>"
   ]
  },
  {
   "cell_type": "markdown",
   "metadata": {},
   "source": [
    "## id与type\n",
    "- id 查看内存地址，在判断语句中将会使用\n",
    "- type 查看元素类型"
   ]
  },
  {
   "cell_type": "markdown",
   "metadata": {},
   "source": [
    "## 其他格式化语句见书"
   ]
  },
  {
   "cell_type": "markdown",
   "metadata": {},
   "source": [
    "# Homework\n",
    "- 1\n",
    "<img src=\"../Photo/24.png\"><img>\n",
    "<img src=\"../Photo/25.png\"><img>"
   ]
  },
  {
   "cell_type": "code",
   "execution_count": 17,
   "metadata": {},
   "outputs": [
    {
     "name": "stdout",
     "output_type": "stream",
     "text": [
      "请输入中心距5.5\n",
      "71.9087467008018\n"
     ]
    }
   ],
   "source": [
    "import math\n",
    "r=eval(input('请输入中心距'))\n",
    "s=2*r*math.sin(3.14/5)\n",
    "area=5*s*s/(4*math.tan(3.14/5))\n",
    "print(area)"
   ]
  },
  {
   "cell_type": "markdown",
   "metadata": {},
   "source": [
    "- 2\n",
    "<img src=\"../Photo/26.png\"><img>"
   ]
  },
  {
   "cell_type": "code",
   "execution_count": 22,
   "metadata": {},
   "outputs": [
    {
     "name": "stdout",
     "output_type": "stream",
     "text": [
      "请输入经度39.55\n",
      "请输入维度-116.25\n",
      "请输入经度41.5\n",
      "请输入维度87.37\n",
      "10691.79183231593 km\n"
     ]
    }
   ],
   "source": [
    "import math\n",
    "x1=eval(input('请输入经度'))\n",
    "y1=eval(input('请输入维度'))\n",
    "x2=eval(input('请输入经度'))\n",
    "y2=eval(input('请输入维度'))\n",
    "d1=math.sin(math.radians(x1))*math.sin(math.radians(x2))+math.cos(math.radians(x1))*math.cos(math.radians(x2))*math.cos(math.radians(y1-y2))\n",
    "d2=6371.01*math.acos(d1)\n",
    "print(d2,'km')"
   ]
  },
  {
   "cell_type": "markdown",
   "metadata": {},
   "source": [
    "- 3\n",
    "<img src=\"../Photo/27.png\"><img>"
   ]
  },
  {
   "cell_type": "code",
   "execution_count": 25,
   "metadata": {},
   "outputs": [
    {
     "name": "stdout",
     "output_type": "stream",
     "text": [
      "请输入边长5.5\n",
      "52.07931842245343\n"
     ]
    }
   ],
   "source": [
    "import math\n",
    "s=eval(input('请输入边长'))\n",
    "area=5*math.pow(s,2)/4/math.tan(3.14/5)\n",
    "print(area)"
   ]
  },
  {
   "cell_type": "markdown",
   "metadata": {},
   "source": [
    "- 4\n",
    "<img src=\"../Photo/28.png\"><img>"
   ]
  },
  {
   "cell_type": "code",
   "execution_count": 26,
   "metadata": {},
   "outputs": [
    {
     "name": "stdout",
     "output_type": "stream",
     "text": [
      "请输入边数5\n",
      "请输入边长6.5\n",
      "72.73888275532752\n"
     ]
    }
   ],
   "source": [
    "import math\n",
    "n=eval(input('请输入边数'))\n",
    "s=eval(input('请输入边长'))\n",
    "area=n*math.pow(s,2)/4/math.tan(3.14/n)\n",
    "print(area)"
   ]
  },
  {
   "cell_type": "markdown",
   "metadata": {},
   "source": [
    "- 5\n",
    "<img src=\"../Photo/29.png\"><img>\n",
    "<img src=\"../Photo/30.png\"><img>"
   ]
  },
  {
   "cell_type": "code",
   "execution_count": 31,
   "metadata": {},
   "outputs": [
    {
     "name": "stdout",
     "output_type": "stream",
     "text": [
      "请输入一个数69\n",
      "E\n"
     ]
    }
   ],
   "source": [
    "mazhi=eval(input(\"请输入一个数\"))\n",
    "zifu=chr(mazhi)\n",
    "print(zifu)"
   ]
  },
  {
   "cell_type": "markdown",
   "metadata": {},
   "source": [
    "- 6\n",
    "<img src=\"../Photo/31.png\"><img>"
   ]
  },
  {
   "cell_type": "code",
   "execution_count": 35,
   "metadata": {},
   "outputs": [
    {
     "name": "stdout",
     "output_type": "stream",
     "text": [
      "请输入名字史密斯\n",
      "请输入工作时间10\n",
      "请输入每小时工资9.75\n",
      "联邦税率0.20\n",
      "州税率0.09\n",
      "他的名字是 史密斯\n",
      "联邦应缴费 19.5\n",
      "州应缴费 8.775\n",
      "税后收入 69.225\n"
     ]
    }
   ],
   "source": [
    "name=input(\"请输入名字\")\n",
    "time=eval(input(\"请输入工作时间\"))\n",
    "xiaolu=eval(input(\"请输入每小时工资\"))\n",
    "lianbang=eval(input(\"联邦税率\"))\n",
    "zhou=eval(input(\"州税率\"))\n",
    "shouru=time*xiaolu\n",
    "lianshui=lianbang*shouru\n",
    "zhoushui=zhou*shouru\n",
    "zong=shouru-lianshui-zhoushui\n",
    "print(\"他的名字是\",name)\n",
    "print(\"联邦应缴费\",lianshui)\n",
    "print(\"州应缴费\",zhoushui)\n",
    "print(\"税后收入\",zong)"
   ]
  },
  {
   "cell_type": "markdown",
   "metadata": {},
   "source": [
    "# - 7\n",
    "<img src=\"../Photo/32.png\"><img>"
   ]
  },
  {
   "cell_type": "code",
   "execution_count": 41,
   "metadata": {
    "scrolled": true
   },
   "outputs": [
    {
     "name": "stdout",
     "output_type": "stream",
     "text": [
      "输入一个四位数3125\n",
      "5 2 1 3\n"
     ]
    }
   ],
   "source": [
    "sz=eval(input(\"输入一个四位数\"))\n",
    "qian=sz//1000\n",
    "bai=sz//100\n",
    "bai2=bai%10\n",
    "shi1=sz//10\n",
    "shi2=shi1%10\n",
    "ge=sz%10\n",
    "print(ge,shi2,bai2,qian)"
   ]
  },
  {
   "cell_type": "markdown",
   "metadata": {},
   "source": [
    "- 8 进阶：\n",
    "> 加密一串文本，并将解密后的文件写入本地保存"
   ]
  },
  {
   "cell_type": "code",
   "execution_count": 43,
   "metadata": {},
   "outputs": [
    {
     "name": "stdout",
     "output_type": "stream",
     "text": [
      "t\n",
      "s\n",
      "y\n",
      "i\n",
      "r\n",
      "z\n"
     ]
    }
   ],
   "source": [
    "#加密srxhsrqy  \n",
    "print(chr(ord('s')+1))\n",
    "print(chr(ord('r')+1))\n",
    "print(chr(ord('x')+1))\n",
    "print(chr(ord('h')+1))\n",
    "print(chr(ord('q')+1))\n",
    "print(chr(ord('y')+1))"
   ]
  },
  {
   "cell_type": "code",
   "execution_count": 44,
   "metadata": {},
   "outputs": [
    {
     "name": "stdout",
     "output_type": "stream",
     "text": [
      "t\n",
      "s\n",
      "y\n",
      "i\n",
      "t\n",
      "s\n",
      "r\n",
      "z\n"
     ]
    }
   ],
   "source": [
    "for i in 'srxhsrqy':\n",
    "    print(chr(ord(i)+1))"
   ]
  },
  {
   "cell_type": "code",
   "execution_count": 47,
   "metadata": {},
   "outputs": [
    {
     "name": "stdout",
     "output_type": "stream",
     "text": [
      "s\n",
      "r\n",
      "x\n",
      "h\n",
      "s\n",
      "r\n",
      "q\n",
      "y\n"
     ]
    }
   ],
   "source": [
    "for i in 'tsyitsrz':\n",
    "    print(chr(ord(i)-1))"
   ]
  },
  {
   "cell_type": "code",
   "execution_count": null,
   "metadata": {},
   "outputs": [],
   "source": []
  }
 ],
 "metadata": {
  "kernelspec": {
   "display_name": "Python 3",
   "language": "python",
   "name": "python3"
  },
  "language_info": {
   "codemirror_mode": {
    "name": "ipython",
    "version": 3
   },
   "file_extension": ".py",
   "mimetype": "text/x-python",
   "name": "python",
   "nbconvert_exporter": "python",
   "pygments_lexer": "ipython3",
   "version": "3.7.3"
  }
 },
 "nbformat": 4,
 "nbformat_minor": 2
}
