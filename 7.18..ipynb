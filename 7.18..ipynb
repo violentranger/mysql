{
 "cells": [
  {
   "cell_type": "markdown",
   "metadata": {},
   "source": [
    "# 选择\n",
    "## 布尔类型、数值和表达式\n",
    "![](../Photo/33.png)\n",
    "- 注意：比较运算符的相等是两个等号，一个等到代表赋值\n",
    "- 在Python中可以用整型0来代表False，其他数字来代表True\n",
    "- 后面还会讲到 is 在判断语句中的用发"
   ]
  },
  {
   "cell_type": "code",
   "execution_count": 1,
   "metadata": {},
   "outputs": [
    {
     "data": {
      "text/plain": [
       "True"
      ]
     },
     "execution_count": 1,
     "metadata": {},
     "output_type": "execute_result"
    }
   ],
   "source": [
    "#布尔类型；对象可以被赋予对和错true false\n",
    "a=1\n",
    "b=1\n",
    "a==b"
   ]
  },
  {
   "cell_type": "code",
   "execution_count": 2,
   "metadata": {},
   "outputs": [
    {
     "data": {
      "text/plain": [
       "False"
      ]
     },
     "execution_count": 2,
     "metadata": {},
     "output_type": "execute_result"
    }
   ],
   "source": [
    "a=1\n",
    "b=0\n",
    "a==b"
   ]
  },
  {
   "cell_type": "code",
   "execution_count": 3,
   "metadata": {},
   "outputs": [
    {
     "data": {
      "text/plain": [
       "False"
      ]
     },
     "execution_count": 3,
     "metadata": {},
     "output_type": "execute_result"
    }
   ],
   "source": [
    "a=1\n",
    "b='1'\n",
    "a==b\n"
   ]
  },
  {
   "cell_type": "code",
   "execution_count": 6,
   "metadata": {},
   "outputs": [
    {
     "data": {
      "text/plain": [
       "True"
      ]
     },
     "execution_count": 6,
     "metadata": {},
     "output_type": "execute_result"
    }
   ],
   "source": [
    "a='1'\n",
    "b='1'\n",
    "a==b"
   ]
  },
  {
   "cell_type": "code",
   "execution_count": 7,
   "metadata": {},
   "outputs": [
    {
     "data": {
      "text/plain": [
       "False"
      ]
     },
     "execution_count": 7,
     "metadata": {},
     "output_type": "execute_result"
    }
   ],
   "source": [
    "a='1'\n",
    "b='1'\n",
    "a>b\n",
    "#不能写大于小于"
   ]
  },
  {
   "cell_type": "code",
   "execution_count": 9,
   "metadata": {},
   "outputs": [
    {
     "data": {
      "text/plain": [
       "False"
      ]
     },
     "execution_count": 9,
     "metadata": {},
     "output_type": "execute_result"
    }
   ],
   "source": [
    "0 is 1\n",
    "#额。。。没学好"
   ]
  },
  {
   "cell_type": "code",
   "execution_count": 11,
   "metadata": {},
   "outputs": [
    {
     "data": {
      "text/plain": [
       "False"
      ]
     },
     "execution_count": 11,
     "metadata": {},
     "output_type": "execute_result"
    }
   ],
   "source": [
    "a='FAker'\n",
    "b='Niubi'\n",
    "a>b\n",
    "#代表阿斯克码值 所以小>大写"
   ]
  },
  {
   "cell_type": "markdown",
   "metadata": {},
   "source": [
    "## 字符串的比较使用ASCII值"
   ]
  },
  {
   "cell_type": "markdown",
   "metadata": {},
   "source": [
    "## Markdown 语法更多详情有网站\n",
    "- https://github.com/younghz/Markdown"
   ]
  },
  {
   "cell_type": "markdown",
   "metadata": {},
   "source": [
    "## EP:\n",
    "- <img src=\"../Photo/34.png\"></img>\n",
    "- 输入一个数字，判断其实奇数还是偶数"
   ]
  },
  {
   "cell_type": "code",
   "execution_count": 16,
   "metadata": {},
   "outputs": [
    {
     "data": {
      "text/plain": [
       "0"
      ]
     },
     "execution_count": 16,
     "metadata": {},
     "output_type": "execute_result"
    }
   ],
   "source": [
    "int(False)"
   ]
  },
  {
   "cell_type": "code",
   "execution_count": 17,
   "metadata": {},
   "outputs": [
    {
     "name": "stdout",
     "output_type": "stream",
     "text": [
      "True\n"
     ]
    }
   ],
   "source": [
    "b1=bool(4)\n",
    "print(b1)"
   ]
  },
  {
   "cell_type": "code",
   "execution_count": 22,
   "metadata": {},
   "outputs": [
    {
     "ename": "SyntaxError",
     "evalue": "invalid syntax (<ipython-input-22-4a766a289c46>, line 3)",
     "output_type": "error",
     "traceback": [
      "\u001b[1;36m  File \u001b[1;32m\"<ipython-input-22-4a766a289c46>\"\u001b[1;36m, line \u001b[1;32m3\u001b[0m\n\u001b[1;33m    if res=1:\u001b[0m\n\u001b[1;37m          ^\u001b[0m\n\u001b[1;31mSyntaxError\u001b[0m\u001b[1;31m:\u001b[0m invalid syntax\n"
     ]
    }
   ],
   "source": [
    "a=eval(input('请输入一个数值'))\n",
    "res=a%2\n",
    "if res=1:\n",
    "    res=bool(1)\n",
    "else:\n",
    "    res=bool(0)\n",
    "    #提醒的意思没有别的意思"
   ]
  },
  {
   "cell_type": "markdown",
   "metadata": {},
   "source": [
    "## 产生随机数字\n",
    "- 函数random.randint(a,b) 可以用来产生一个a和b之间且包括a和b的随机整数"
   ]
  },
  {
   "cell_type": "code",
   "execution_count": 29,
   "metadata": {},
   "outputs": [
    {
     "data": {
      "text/plain": [
       "3"
      ]
     },
     "execution_count": 29,
     "metadata": {},
     "output_type": "execute_result"
    }
   ],
   "source": [
    "#包括ab\n",
    "#带小数点的要先导入库\n",
    "import random\n",
    "random.randint(2,3)"
   ]
  },
  {
   "cell_type": "markdown",
   "metadata": {},
   "source": [
    "产生一个随机数，你去输入，如果你输入的数大于随机数，那么就告诉你太大了，反之，太小了，\n",
    "然后你一直输入，知道它满意为止"
   ]
  },
  {
   "cell_type": "code",
   "execution_count": 36,
   "metadata": {},
   "outputs": [
    {
     "data": {
      "text/plain": [
       "5"
      ]
     },
     "execution_count": 36,
     "metadata": {},
     "output_type": "execute_result"
    }
   ],
   "source": [
    "import random\n",
    "random.randint(2,5)"
   ]
  },
  {
   "cell_type": "code",
   "execution_count": 55,
   "metadata": {},
   "outputs": [
    {
     "name": "stdout",
     "output_type": "stream",
     "text": [
      "请输入一个数值1\n",
      "太小了\n"
     ]
    }
   ],
   "source": [
    "a=eval(input('请输入一个数值'))\n",
    "if a>5:\n",
    "    print('太大了')\n",
    "if a==4:\n",
    "    print('你牛逼')\n",
    "if a<2:\n",
    "    print('太小了')"
   ]
  },
  {
   "cell_type": "code",
   "execution_count": null,
   "metadata": {},
   "outputs": [],
   "source": [
    "while 1:\n",
    "    os.system('calc')"
   ]
  },
  {
   "cell_type": "markdown",
   "metadata": {},
   "source": [
    "##  其他random方法\n",
    "- random.random 返回0.0到1.0之间前闭后开区间的随机浮点\n",
    "- random.randrange(a,b) 前闭后开"
   ]
  },
  {
   "cell_type": "code",
   "execution_count": null,
   "metadata": {},
   "outputs": [],
   "source": [
    "import random\n",
    "random.randint(2,5)"
   ]
  },
  {
   "cell_type": "markdown",
   "metadata": {},
   "source": [
    "## EP：\n",
    "- 产生两个随机整数number1和number2，然后显示给用户，使用户输入数字的和，并判定其是否正确\n",
    "- 进阶:写一个随机序号点名程序"
   ]
  },
  {
   "cell_type": "code",
   "execution_count": 12,
   "metadata": {},
   "outputs": [],
   "source": [
    "import random\n",
    "a=random.randint(2,5)\n",
    "b=random.randint(5,6)"
   ]
  },
  {
   "cell_type": "code",
   "execution_count": 13,
   "metadata": {},
   "outputs": [
    {
     "name": "stdout",
     "output_type": "stream",
     "text": [
      "3\n",
      "5\n"
     ]
    }
   ],
   "source": [
    "print(a)\n",
    "print(b)"
   ]
  },
  {
   "cell_type": "code",
   "execution_count": 14,
   "metadata": {},
   "outputs": [
    {
     "name": "stdout",
     "output_type": "stream",
     "text": [
      "c1\n",
      "你真菜\n",
      "c8\n",
      "你牛逼\n"
     ]
    }
   ],
   "source": [
    "for i in range(10):\n",
    "    c = eval(input('c'))\n",
    "    if c==(a+b):\n",
    "        print('你牛逼')\n",
    "        break\n",
    "    else:\n",
    "        print('你真菜')"
   ]
  },
  {
   "cell_type": "code",
   "execution_count": null,
   "metadata": {},
   "outputs": [],
   "source": [
    "for i in range(10):\n",
    "    print(i)"
   ]
  },
  {
   "cell_type": "code",
   "execution_count": null,
   "metadata": {},
   "outputs": [],
   "source": [
    "#所有都是顶格写\n",
    "#但是遇到冒号：就必须回车前面缩四个空格"
   ]
  },
  {
   "cell_type": "code",
   "execution_count": null,
   "metadata": {},
   "outputs": [],
   "source": [
    "x==eval(input('x'))\n",
    "for i in range(2,5):\n",
    "    if x%i == 0\n",
    "        print(i,'可以整除')"
   ]
  },
  {
   "cell_type": "markdown",
   "metadata": {},
   "source": [
    "## if语句\n",
    "- 如果条件正确就执行一个单向if语句，亦即当条件为真的时候才执行if内部的语句\n",
    "- Python有很多选择语句:\n",
    "> - 单向if \n",
    "  - 双向if-else\n",
    "  - 嵌套if\n",
    "  - 多向if-elif-else\n",
    "  \n",
    "- 注意：当语句含有子语句的时候，那么一定至少要有一个缩进，也就是说如果有儿子存在，那么一定要缩进\n",
    "- 切记不可tab键和space混用，单用tab 或者 space\n",
    "- 当你输出的结果是无论if是否为真时都需要显示时，语句应该与if对齐"
   ]
  },
  {
   "cell_type": "code",
   "execution_count": 61,
   "metadata": {},
   "outputs": [],
   "source": [
    "#空格和tab键可以混用\n",
    "#四个空格规范\n",
    "\n"
   ]
  },
  {
   "cell_type": "code",
   "execution_count": null,
   "metadata": {},
   "outputs": [],
   "source": [
    "x= eval(input('>>'))\n"
   ]
  },
  {
   "cell_type": "markdown",
   "metadata": {},
   "source": [
    "## EP：\n",
    "- 用户输入一个数字，判断其实奇数还是偶数\n",
    "- 进阶：可以查看下4.5实例研究猜生日"
   ]
  },
  {
   "cell_type": "markdown",
   "metadata": {},
   "source": [
    "## 双向if-else 语句\n",
    "- 如果条件为真，那么走if内部语句，否则走else内部语句"
   ]
  },
  {
   "cell_type": "code",
   "execution_count": null,
   "metadata": {},
   "outputs": [],
   "source": [
    "#多级嵌套"
   ]
  },
  {
   "cell_type": "code",
   "execution_count": null,
   "metadata": {},
   "outputs": [],
   "source": [
    "if condition:\n",
    "    if con:\n",
    "        do somthing\n",
    "        else:\n",
    "            other\n",
    "            do something\n",
    "    else:\n",
    "        other"
   ]
  },
  {
   "cell_type": "code",
   "execution_count": null,
   "metadata": {},
   "outputs": [],
   "source": [
    "#决策树，决定未来\n",
    "#随机分离"
   ]
  },
  {
   "cell_type": "code",
   "execution_count": null,
   "metadata": {},
   "outputs": [],
   "source": [
    "money=input('money[y/n]')\n",
    "if money=='y':\n",
    "    print('成功第一步')\n",
    "    cool=input('cool[y/n]')\n",
    "    if cool=='y':\n",
    "        print('成功第二步')\n",
    "        wife=input('wife[y/n]')\n",
    "        if wife=='y':\n",
    "            print('恭喜脱单')\n",
    "        else:\n",
    "            print('滚')\n",
    "    else:\n",
    "        print('滚')\n",
    "else:\n",
    "    print('滚')          "
   ]
  },
  {
   "cell_type": "code",
   "execution_count": null,
   "metadata": {},
   "outputs": [],
   "source": [
    "money=input('money[y/n]')\n",
    "if money=="
   ]
  },
  {
   "cell_type": "markdown",
   "metadata": {},
   "source": [
    "## EP：\n",
    "- 产生两个随机整数number1和number2，然后显示给用户，使用户输入数字，并判定其是否正确,如果正确打印“you‘re correct”，否则打印正确错误"
   ]
  },
  {
   "cell_type": "markdown",
   "metadata": {},
   "source": [
    "## 嵌套if 和多向if-elif-else\n",
    "![](../Photo/35.png)"
   ]
  },
  {
   "cell_type": "code",
   "execution_count": null,
   "metadata": {},
   "outputs": [],
   "source": [
    "#elif 成立一个其他的都不走"
   ]
  },
  {
   "cell_type": "code",
   "execution_count": 3,
   "metadata": {},
   "outputs": [
    {
     "name": "stdout",
     "output_type": "stream",
     "text": [
      "money[1/0]1\n",
      "cool[1/0]1\n",
      "wife[1/0]1\n",
      "牛逼\n"
     ]
    }
   ],
   "source": [
    "money=input('money[1/0]')\n",
    "cool=input('cool[1/0]')\n",
    "wife=input('wife[1/0]')\n",
    "money=int(money)\n",
    "cool=int(cool)\n",
    "wife=int(wife)\n",
    "x=money+cool+wife\n",
    "if  x==3:\n",
    "    print('牛逼')\n",
    "elif x==2:\n",
    "    if x3==0\n",
    "    print('菜')\n",
    "    elif x2==0:\n",
    "        \n",
    "    grade='菜'\n",
    "elif x==1:\n",
    "    grade='辣鸡'\n",
    "print(grade)"
   ]
  },
  {
   "cell_type": "code",
   "execution_count": null,
   "metadata": {},
   "outputs": [],
   "source": [
    "#if 和elif套用时一定要同级"
   ]
  },
  {
   "cell_type": "markdown",
   "metadata": {},
   "source": [
    "## EP：\n",
    "- 提示用户输入一个年份，然后显示表示这一年的动物\n",
    "![](../Photo/36.png)\n",
    "- 计算身体质量指数的程序\n",
    "- BMI = 以千克为单位的体重除以以米为单位的身高的平方\n",
    "![](../Photo/37.png)"
   ]
  },
  {
   "cell_type": "code",
   "execution_count": 6,
   "metadata": {},
   "outputs": [
    {
     "name": "stdout",
     "output_type": "stream",
     "text": [
      "year1999\n",
      "7\n",
      "兔\n"
     ]
    }
   ],
   "source": [
    "year=input('year')\n",
    "year=int(year)\n",
    "c=year%12\n",
    "print(c)\n",
    "if  c==0:\n",
    "    grade='猴'\n",
    "elif c==1:\n",
    "    grade='鸡'\n",
    "elif c==2:\n",
    "    grade='狗'\n",
    "elif c==3:\n",
    "    grade='猪'\n",
    "elif c==4:\n",
    "    grade='鼠'\n",
    "elif c==5:\n",
    "    grade='牛'\n",
    "elif c==6:\n",
    "    grade='虎'\n",
    "elif c==7:\n",
    "    grade='兔'\n",
    "elif c==8:\n",
    "    grade='龙'\n",
    "elif c==9:\n",
    "    grade='蛇'\n",
    "elif c==10:\n",
    "    grade='马'\n",
    "elif c==11:\n",
    "    grade='羊'\n",
    "print(grade)"
   ]
  },
  {
   "cell_type": "code",
   "execution_count": null,
   "metadata": {},
   "outputs": [],
   "source": [
    "#按住alt键盘直接向下拉\n",
    "\n",
    "\n",
    "\n",
    "\n",
    "\n",
    "\n",
    "\n",
    "\n",
    "\n",
    "\n"
   ]
  },
  {
   "cell_type": "code",
   "execution_count": 8,
   "metadata": {},
   "outputs": [
    {
     "name": "stdout",
     "output_type": "stream",
     "text": [
      "shengao170\n",
      "tizhong60\n"
     ]
    }
   ],
   "source": [
    "shengao=input('shengao')\n",
    "tizhong=input('tizhong')\n",
    "shengao=float(shengao)\n",
    "tizhong=float(tizhong)\n",
    "BMI=tizhong/(shengao*shengao)\n",
    "if  BMI>=30.0:\n",
    "    grade='痴肥'\n",
    "elif BMI>=25.0:\n",
    "    grade='超重'\n",
    "elif BMI>=18.5:\n",
    "    grade='标准'\n",
    "elif BMI<18.5:\n",
    "    grade='超轻'\n",
    "print(grade)"
   ]
  },
  {
   "cell_type": "markdown",
   "metadata": {},
   "source": [
    "## 逻辑运算符\n",
    "![](../Photo/38.png)"
   ]
  },
  {
   "cell_type": "markdown",
   "metadata": {},
   "source": [
    "![](../Photo/39.png)\n",
    "![](../Photo/40.png)"
   ]
  },
  {
   "cell_type": "markdown",
   "metadata": {},
   "source": [
    "## EP：\n",
    "- 判定闰年：一个年份如果能被4整除但不能被100整除，或者能被400整除，那么这个年份就是闰年\n",
    "- 提示用户输入一个年份，并返回是否是闰年\n",
    "- 提示用户输入一个数字，判断其是否为水仙花数"
   ]
  },
  {
   "cell_type": "code",
   "execution_count": 11,
   "metadata": {},
   "outputs": [
    {
     "name": "stdout",
     "output_type": "stream",
     "text": [
      "year2008\n",
      "辣鸡\n"
     ]
    }
   ],
   "source": [
    "year=eval(input('year'))\n",
    "x=((year%4) and (year%100)) or (year%400)\n",
    "x=int(run)\n",
    "if x==0:\n",
    "    print('闰年')\n",
    "else:\n",
    "    print('辣鸡')"
   ]
  },
  {
   "cell_type": "code",
   "execution_count": 13,
   "metadata": {},
   "outputs": [
    {
     "name": "stdout",
     "output_type": "stream",
     "text": [
      "数值153\n",
      "水仙花\n"
     ]
    }
   ],
   "source": [
    "number = eval(input('数值'))\n",
    "bai = number//100\n",
    "shi = number//10%10\n",
    "ge = number%10\n",
    "if bai**3+shi**3+ge**3==number:\n",
    "    print('水仙花')"
   ]
  },
  {
   "cell_type": "code",
   "execution_count": null,
   "metadata": {},
   "outputs": [],
   "source": [
    "for i in range(10):\n",
    "    print(i)"
   ]
  },
  {
   "cell_type": "code",
   "execution_count": 1,
   "metadata": {},
   "outputs": [
    {
     "name": "stdout",
     "output_type": "stream",
     "text": [
      "153 水仙花\n",
      "370 水仙花\n",
      "371 水仙花\n",
      "407 水仙花\n"
     ]
    }
   ],
   "source": [
    "for number in range(100,1000):\n",
    "    bai = number//100\n",
    "    shi = number//10%10\n",
    "    ge = number%10\n",
    "    \n",
    "    if bai**3+shi**3+ge**3==number:\n",
    "        print(number,'水仙花')"
   ]
  },
  {
   "cell_type": "markdown",
   "metadata": {},
   "source": [
    "## 实例研究：彩票\n",
    "![](../Photo/41.png)"
   ]
  },
  {
   "cell_type": "markdown",
   "metadata": {},
   "source": [
    "# Homework\n",
    "- 1\n",
    "![](../Photo/42.png)"
   ]
  },
  {
   "cell_type": "code",
   "execution_count": 4,
   "metadata": {},
   "outputs": [
    {
     "name": "stdout",
     "output_type": "stream",
     "text": [
      "请输入a的值1\n",
      "请输入b的值5\n",
      "请输入c的值1\n",
      "8.0 -13.0\n"
     ]
    }
   ],
   "source": [
    "a=eval(input('请输入a的值'))\n",
    "b=eval(input('请输入b的值'))\n",
    "c=eval(input('请输入c的值'))\n",
    "x=b**2-(4*a*c)\n",
    "x=int(x)\n",
    "if x>0:\n",
    "    r1=(-b+x)/(2*a)\n",
    "    r2=(-b-x)/(2*a)\n",
    "    print(r1,r2)\n",
    "else:\n",
    "    print('the equation has no real roots')"
   ]
  },
  {
   "cell_type": "markdown",
   "metadata": {},
   "source": [
    "- 2\n",
    "![](../Photo/43.png)"
   ]
  },
  {
   "cell_type": "code",
   "execution_count": 1,
   "metadata": {},
   "outputs": [],
   "source": [
    "import random\n",
    "a=random.randint(0,100)\n",
    "b=random.randint(0,100)"
   ]
  },
  {
   "cell_type": "code",
   "execution_count": 2,
   "metadata": {
    "scrolled": true
   },
   "outputs": [
    {
     "name": "stdout",
     "output_type": "stream",
     "text": [
      "23\n",
      "13\n"
     ]
    }
   ],
   "source": [
    "print(a)\n",
    "print(b)"
   ]
  },
  {
   "cell_type": "code",
   "execution_count": 5,
   "metadata": {},
   "outputs": [
    {
     "name": "stdout",
     "output_type": "stream",
     "text": [
      "c5\n",
      "假\n",
      "c36\n",
      "真\n"
     ]
    }
   ],
   "source": [
    "for i in range(10):\n",
    "    c = eval(input('c'))\n",
    "    if c==(a+b):\n",
    "        print('真')\n",
    "        break\n",
    "    else:\n",
    "        print('假')"
   ]
  },
  {
   "cell_type": "markdown",
   "metadata": {},
   "source": [
    "- 3\n",
    "![](../Photo/44.png)"
   ]
  },
  {
   "cell_type": "code",
   "execution_count": 7,
   "metadata": {},
   "outputs": [
    {
     "name": "stdout",
     "output_type": "stream",
     "text": [
      "输入今天是星期几1\n",
      "输入未来的天数8\n",
      "2\n"
     ]
    }
   ],
   "source": [
    "a=eval(input('输入今天是星期几'))\n",
    "c=eval(input('输入未来的天数'))\n",
    "week=(a+c)%7\n",
    "print(week)"
   ]
  },
  {
   "cell_type": "markdown",
   "metadata": {},
   "source": [
    "- 4\n",
    "![](../Photo/45.png)"
   ]
  },
  {
   "cell_type": "code",
   "execution_count": 15,
   "metadata": {},
   "outputs": [
    {
     "name": "stdout",
     "output_type": "stream",
     "text": [
      "a1\n",
      "b2\n",
      "c3\n",
      "[1, 2, 3]\n"
     ]
    }
   ],
   "source": [
    "a=eval(input('a'))\n",
    "b=eval(input('b'))\n",
    "c=eval(input('c'))\n",
    "test=(a,b,c)\n",
    "d=sorted(test)\n",
    "print(d)"
   ]
  },
  {
   "cell_type": "markdown",
   "metadata": {},
   "source": [
    "- 5\n",
    "![](../Photo/46.png)"
   ]
  },
  {
   "cell_type": "code",
   "execution_count": 22,
   "metadata": {},
   "outputs": [
    {
     "name": "stdout",
     "output_type": "stream",
     "text": [
      "请输入重量10\n",
      "请输入重量20\n",
      "请输入包装价格5\n",
      "请输入包装价格5\n",
      "1\n"
     ]
    }
   ],
   "source": [
    "a1=eval(input('请输入重量'))\n",
    "a2=eval(input('请输入重量'))\n",
    "b1=eval(input('请输入包装价格'))\n",
    "b2=eval(input('请输入包装价格'))\n",
    "c1=b1/a1\n",
    "c2=b2/a2\n",
    "if c1>c2:\n",
    "    print('1')\n",
    "else:\n",
    "    print('2')"
   ]
  },
  {
   "cell_type": "markdown",
   "metadata": {},
   "source": [
    "- 6\n",
    "![](../Photo/47.png)"
   ]
  },
  {
   "cell_type": "code",
   "execution_count": 29,
   "metadata": {},
   "outputs": [
    {
     "name": "stdout",
     "output_type": "stream",
     "text": [
      "请输入年2008\n",
      "请输入月6\n",
      "(6, 30)\n"
     ]
    }
   ],
   "source": [
    "a=eval(input('请输入年'))\n",
    "b=eval(input('请输入月'))\n",
    "import calendar\n",
    "monthRange = calendar.monthrange(a,b)\n",
    "print(monthRange)"
   ]
  },
  {
   "cell_type": "markdown",
   "metadata": {},
   "source": [
    "- 7\n",
    "![](../Photo/48.png)"
   ]
  },
  {
   "cell_type": "code",
   "execution_count": 32,
   "metadata": {},
   "outputs": [
    {
     "name": "stdout",
     "output_type": "stream",
     "text": [
      "0\n"
     ]
    }
   ],
   "source": [
    "import random\n",
    "a=random.randint(0,1)\n",
    "print(a)"
   ]
  },
  {
   "cell_type": "code",
   "execution_count": 33,
   "metadata": {},
   "outputs": [
    {
     "name": "stdout",
     "output_type": "stream",
     "text": [
      "请输入一个数值1\n",
      "错误\n"
     ]
    }
   ],
   "source": [
    "b=eval(input('请输入一个数值'))\n",
    "if a==b:\n",
    "    print('正确')\n",
    "else:\n",
    "    print('错误')"
   ]
  },
  {
   "cell_type": "markdown",
   "metadata": {},
   "source": [
    "- 8\n",
    "![](../Photo/49.png)"
   ]
  },
  {
   "cell_type": "code",
   "execution_count": 34,
   "metadata": {},
   "outputs": [
    {
     "name": "stdout",
     "output_type": "stream",
     "text": [
      "2\n"
     ]
    }
   ],
   "source": [
    "import random\n",
    "a=random.randint(0,2)\n",
    "print(a)"
   ]
  },
  {
   "cell_type": "code",
   "execution_count": 38,
   "metadata": {},
   "outputs": [
    {
     "name": "stdout",
     "output_type": "stream",
     "text": [
      "请输入1或2或01\n",
      "输\n"
     ]
    }
   ],
   "source": [
    "b=eval(input('请输入1或2或0'))\n",
    "if (a>b):\n",
    "    print('输')\n",
    "else:\n",
    "    print('赢')"
   ]
  },
  {
   "cell_type": "markdown",
   "metadata": {},
   "source": [
    "- 9\n",
    "![](../Photo/50.png)"
   ]
  },
  {
   "cell_type": "code",
   "execution_count": 41,
   "metadata": {},
   "outputs": [
    {
     "name": "stdout",
     "output_type": "stream",
     "text": [
      "请输入年2008\n",
      "请输入月6\n",
      "请输入天9\n",
      "2\n"
     ]
    }
   ],
   "source": [
    "y=eval(input('请输入年'))\n",
    "m=eval(input('请输入月'))\n",
    "q=eval(input('请输入天'))\n",
    "j=y/100\n",
    "k=y%100\n",
    "h=(q+((26*(m+1))/10)+k+(k/4)+(j/4)+(5*j))%7\n",
    "h=int(h)\n",
    "print(h)"
   ]
  },
  {
   "cell_type": "markdown",
   "metadata": {},
   "source": [
    "- 10\n",
    "![](../Photo/51.png)"
   ]
  },
  {
   "cell_type": "code",
   "execution_count": 47,
   "metadata": {},
   "outputs": [
    {
     "name": "stdout",
     "output_type": "stream",
     "text": [
      "这张牌是  红桃 Ace\n"
     ]
    }
   ],
   "source": [
    "import random\n",
    "hua=random.randint(1,4)\n",
    "daxiao=random.randint(1,13)\n",
    "if hua==1:\n",
    "    hua=\"红桃\"\n",
    "elif hua==2:\n",
    "    hua=\"梅花\"\n",
    "elif hua==3:\n",
    "    hua=\"方块\"\n",
    "elif hua==4:\n",
    "    hua=\"黑桃\"\n",
    "if daxiao==1:\n",
    "    daxiao=\"Ace\"\n",
    "elif daxiao==11:\n",
    "    daxiao=\"Jack\"\n",
    "elif daxiao==12:\n",
    "    daxiao=\"Queen\"\n",
    "elif daxiao==13:\n",
    "    daxiao=\"King\"\n",
    "print(\"这张牌是 \",hua,daxiao)"
   ]
  },
  {
   "cell_type": "markdown",
   "metadata": {},
   "source": [
    "- 11\n",
    "![](../Photo/52.png)"
   ]
  },
  {
   "cell_type": "code",
   "execution_count": 59,
   "metadata": {},
   "outputs": [
    {
     "name": "stdout",
     "output_type": "stream",
     "text": [
      "请输入一个三位数121\n",
      "是回文数\n"
     ]
    }
   ],
   "source": [
    "number=eval(input('请输入一个三位数'))\n",
    "bai = number//100\n",
    "shi = number//10%10\n",
    "ge = number%10\n",
    "if bai==ge:\n",
    "    print('是回文数')\n",
    "else:\n",
    "    print('不是回文数')"
   ]
  },
  {
   "cell_type": "markdown",
   "metadata": {},
   "source": [
    "- 12\n",
    "![](../Photo/53.png)"
   ]
  },
  {
   "cell_type": "code",
   "execution_count": 60,
   "metadata": {},
   "outputs": [
    {
     "name": "stdout",
     "output_type": "stream",
     "text": [
      "请输入第一条边的边长1\n",
      "请输入第二条边的边长1\n",
      "请输入第三条边的边长1\n",
      "合理\n"
     ]
    }
   ],
   "source": [
    "bian1=eval(input(\"请输入第一条边的边长\"))\n",
    "bian2=eval(input(\"请输入第二条边的边长\"))\n",
    "bian3=eval(input(\"请输入第三条边的边长\"))\n",
    "qing3=bian1+bian2\n",
    "qing2=bian1+bian3\n",
    "qing1=bian3+bian2\n",
    "if qing1>bian1 and qing2>bian2 and qing3>bian3:\n",
    "    print(\"合理\")\n",
    "else:\n",
    "    print(\"不合理\")"
   ]
  },
  {
   "cell_type": "code",
   "execution_count": null,
   "metadata": {},
   "outputs": [],
   "source": []
  }
 ],
 "metadata": {
  "kernelspec": {
   "display_name": "Python 3",
   "language": "python",
   "name": "python3"
  },
  "language_info": {
   "codemirror_mode": {
    "name": "ipython",
    "version": 3
   },
   "file_extension": ".py",
   "mimetype": "text/x-python",
   "name": "python",
   "nbconvert_exporter": "python",
   "pygments_lexer": "ipython3",
   "version": "3.7.3"
  }
 },
 "nbformat": 4,
 "nbformat_minor": 2
}
