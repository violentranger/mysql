{
 "cells": [
  {
   "cell_type": "markdown",
   "metadata": {},
   "source": [
    "# 列表List\n",
    "- 一个列表可以储存任意大小的数据集合，你可以理解为他是一个容器"
   ]
  },
  {
   "cell_type": "markdown",
   "metadata": {},
   "source": [
    "## 先来一个例子爽一爽\n",
    "![](../Photo/115.png)"
   ]
  },
  {
   "cell_type": "markdown",
   "metadata": {},
   "source": [
    "## 创建一个列表\n",
    "- a = [1,2,3,4,5]"
   ]
  },
  {
   "cell_type": "code",
   "execution_count": 8,
   "metadata": {},
   "outputs": [
    {
     "data": {
      "text/plain": [
       "[1, 2, 1.5, ['ab']]"
      ]
     },
     "execution_count": 8,
     "metadata": {},
     "output_type": "execute_result"
    }
   ],
   "source": [
    "a=[1,2,1.5,['ab']]\n",
    "a"
   ]
  },
  {
   "cell_type": "code",
   "execution_count": 6,
   "metadata": {},
   "outputs": [
    {
     "data": {
      "text/plain": [
       "['a', 'b', 'c']"
      ]
     },
     "execution_count": 6,
     "metadata": {},
     "output_type": "execute_result"
    }
   ],
   "source": [
    "#强制转换  只有可迭代对象才能强制转换为list\n",
    "c='abc'\n",
    "list(c)"
   ]
  },
  {
   "cell_type": "code",
   "execution_count": 10,
   "metadata": {},
   "outputs": [
    {
     "data": {
      "text/plain": [
       "True"
      ]
     },
     "execution_count": 10,
     "metadata": {},
     "output_type": "execute_result"
    }
   ],
   "source": [
    "a=[100,200]\n",
    "b=[1,2,3,4,[100,200]]\n",
    "a in b"
   ]
  },
  {
   "cell_type": "code",
   "execution_count": 11,
   "metadata": {},
   "outputs": [
    {
     "data": {
      "text/plain": [
       "[1, 2, 1, 3]"
      ]
     },
     "execution_count": 11,
     "metadata": {},
     "output_type": "execute_result"
    }
   ],
   "source": [
    "a= [1,2]\n",
    "b=[1,3]\n",
    "a+b"
   ]
  },
  {
   "cell_type": "markdown",
   "metadata": {},
   "source": [
    "## 列表的一般操作\n",
    "![](../Photo/116.png)"
   ]
  },
  {
   "cell_type": "code",
   "execution_count": 12,
   "metadata": {},
   "outputs": [
    {
     "data": {
      "text/plain": [
       "[1, 2, 1, 2, 1, 2, 1, 2, 1, 2, 1, 2, 1, 2, 1, 2, 1, 2, 1, 2]"
      ]
     },
     "execution_count": 12,
     "metadata": {},
     "output_type": "execute_result"
    }
   ],
   "source": [
    "a=[1,2]\n",
    "a*10"
   ]
  },
  {
   "cell_type": "code",
   "execution_count": 13,
   "metadata": {},
   "outputs": [
    {
     "data": {
      "text/plain": [
       "[1, 2, 3, 4, 5]"
      ]
     },
     "execution_count": 13,
     "metadata": {},
     "output_type": "execute_result"
    }
   ],
   "source": [
    "a=[1,2,3,4,5]\n",
    "a"
   ]
  },
  {
   "cell_type": "code",
   "execution_count": 14,
   "metadata": {},
   "outputs": [
    {
     "data": {
      "text/plain": [
       "3"
      ]
     },
     "execution_count": 14,
     "metadata": {},
     "output_type": "execute_result"
    }
   ],
   "source": [
    "a[2]"
   ]
  },
  {
   "cell_type": "code",
   "execution_count": 15,
   "metadata": {},
   "outputs": [
    {
     "data": {
      "text/plain": [
       "3"
      ]
     },
     "execution_count": 15,
     "metadata": {},
     "output_type": "execute_result"
    }
   ],
   "source": [
    "a[-3]"
   ]
  },
  {
   "cell_type": "code",
   "execution_count": 16,
   "metadata": {},
   "outputs": [
    {
     "data": {
      "text/plain": [
       "[5, 4, 3, 2, 1]"
      ]
     },
     "execution_count": 16,
     "metadata": {},
     "output_type": "execute_result"
    }
   ],
   "source": [
    "a[::-1]"
   ]
  },
  {
   "cell_type": "code",
   "execution_count": 17,
   "metadata": {},
   "outputs": [
    {
     "data": {
      "text/plain": [
       "[1, 2, 3, 4, 5, 6, [100, 200]]"
      ]
     },
     "execution_count": 17,
     "metadata": {},
     "output_type": "execute_result"
    }
   ],
   "source": [
    "#和字符串不同的地方\n",
    "a=[1,2,3,4,5,6,[100,200]]\n",
    "a"
   ]
  },
  {
   "cell_type": "code",
   "execution_count": 19,
   "metadata": {},
   "outputs": [
    {
     "data": {
      "text/plain": [
       "100"
      ]
     },
     "execution_count": 19,
     "metadata": {},
     "output_type": "execute_result"
    }
   ],
   "source": [
    "a[6][0]"
   ]
  },
  {
   "cell_type": "code",
   "execution_count": 23,
   "metadata": {},
   "outputs": [],
   "source": [
    "b=[1,2,3,4,5,6,7,8,9,10]\n"
   ]
  },
  {
   "cell_type": "code",
   "execution_count": 25,
   "metadata": {},
   "outputs": [
    {
     "data": {
      "text/plain": [
       "[1, 100, 3, 4, 5, 6, 7, 8, 9, 10]"
      ]
     },
     "execution_count": 25,
     "metadata": {},
     "output_type": "execute_result"
    }
   ],
   "source": [
    "#索引赋值\n",
    "b[1]=100\n",
    "b"
   ]
  },
  {
   "cell_type": "code",
   "execution_count": 35,
   "metadata": {},
   "outputs": [],
   "source": [
    "b=[1,2,3,4,5,6,7,8,9,10]"
   ]
  },
  {
   "cell_type": "code",
   "execution_count": 36,
   "metadata": {},
   "outputs": [
    {
     "data": {
      "text/plain": [
       "[100, 2, 100, 4, 100, 6, 100, 8, 100, 10]"
      ]
     },
     "execution_count": 36,
     "metadata": {},
     "output_type": "execute_result"
    }
   ],
   "source": [
    "for i in range(0,10,2):\n",
    "    b[i]=100\n",
    "b"
   ]
  },
  {
   "cell_type": "code",
   "execution_count": 37,
   "metadata": {},
   "outputs": [],
   "source": [
    "b=[1,2,3,4,5,6,7,8,9,10,11]"
   ]
  },
  {
   "cell_type": "code",
   "execution_count": 44,
   "metadata": {},
   "outputs": [
    {
     "name": "stdout",
     "output_type": "stream",
     "text": [
      "2 1\n",
      "5 4\n",
      "8 7\n",
      "11 10\n"
     ]
    },
    {
     "data": {
      "text/plain": [
       "[1, 2, 3, 4, 5, 6, 7, 8, 9, 10, 11]"
      ]
     },
     "execution_count": 44,
     "metadata": {},
     "output_type": "execute_result"
    }
   ],
   "source": [
    "for i in range(0,10,3):\n",
    "    for j in range(i,i+1):\n",
    "        i+=1\n",
    "        print(b[i],b[j])\n",
    "b"
   ]
  },
  {
   "cell_type": "code",
   "execution_count": 6,
   "metadata": {},
   "outputs": [
    {
     "ename": "TypeError",
     "evalue": "'NoneType' object is not subscriptable",
     "output_type": "error",
     "traceback": [
      "\u001b[1;31m---------------------------------------------------------------------------\u001b[0m",
      "\u001b[1;31mTypeError\u001b[0m                                 Traceback (most recent call last)",
      "\u001b[1;32m<ipython-input-6-00a8cf1de0a7>\u001b[0m in \u001b[0;36m<module>\u001b[1;34m\u001b[0m\n\u001b[0;32m      1\u001b[0m \u001b[1;32mfor\u001b[0m \u001b[0mi\u001b[0m \u001b[1;32min\u001b[0m \u001b[0mrange\u001b[0m\u001b[1;33m(\u001b[0m\u001b[1;36m0\u001b[0m\u001b[1;33m,\u001b[0m\u001b[1;36m10\u001b[0m\u001b[1;33m,\u001b[0m\u001b[1;36m3\u001b[0m\u001b[1;33m)\u001b[0m\u001b[1;33m:\u001b[0m\u001b[1;33m\u001b[0m\u001b[1;33m\u001b[0m\u001b[0m\n\u001b[1;32m----> 2\u001b[1;33m     \u001b[0mprint\u001b[0m \u001b[1;33m(\u001b[0m\u001b[0mb\u001b[0m\u001b[1;33m[\u001b[0m\u001b[0mi\u001b[0m\u001b[1;33m,\u001b[0m\u001b[0mi\u001b[0m\u001b[1;33m+\u001b[0m\u001b[1;36m1\u001b[0m\u001b[1;33m]\u001b[0m\u001b[1;33m)\u001b[0m\u001b[1;33m\u001b[0m\u001b[1;33m\u001b[0m\u001b[0m\n\u001b[0m",
      "\u001b[1;31mTypeError\u001b[0m: 'NoneType' object is not subscriptable"
     ]
    }
   ],
   "source": [
    "for i in range(0,10,3):\n",
    "    print (b[i,i+1])"
   ]
  },
  {
   "cell_type": "code",
   "execution_count": 47,
   "metadata": {},
   "outputs": [
    {
     "data": {
      "text/plain": [
       "5"
      ]
     },
     "execution_count": 47,
     "metadata": {},
     "output_type": "execute_result"
    }
   ],
   "source": [
    "小仙女=[1,2,3,4,[1,2,3,[1,2,3]]]\n",
    "len(小仙女)"
   ]
  },
  {
   "cell_type": "code",
   "execution_count": 51,
   "metadata": {},
   "outputs": [
    {
     "data": {
      "text/plain": [
       "[1, 2, 3, 4, [1, 2, 3]]"
      ]
     },
     "execution_count": 51,
     "metadata": {},
     "output_type": "execute_result"
    }
   ],
   "source": [
    "a=[1,2,3,4,[1,2,3]]\n",
    "a"
   ]
  },
  {
   "cell_type": "code",
   "execution_count": 52,
   "metadata": {},
   "outputs": [
    {
     "data": {
      "text/plain": [
       "7"
      ]
     },
     "execution_count": 52,
     "metadata": {},
     "output_type": "execute_result"
    }
   ],
   "source": [
    "count = 0\n",
    "for i in a:\n",
    "    if type(i) == list:\n",
    "        for j in i:\n",
    "            count+=1\n",
    "        else:\n",
    "            count+=1\n",
    "len(a)"
   ]
  },
  {
   "cell_type": "code",
   "execution_count": 57,
   "metadata": {},
   "outputs": [
    {
     "data": {
      "text/plain": [
       "4"
      ]
     },
     "execution_count": 57,
     "metadata": {},
     "output_type": "execute_result"
    }
   ],
   "source": [
    "a=[1,2,3,4,True]\n",
    "max(a)"
   ]
  },
  {
   "cell_type": "code",
   "execution_count": null,
   "metadata": {},
   "outputs": [],
   "source": [
    "a.__iter__#只要有这个属性就可以for循环\n"
   ]
  },
  {
   "cell_type": "code",
   "execution_count": 59,
   "metadata": {},
   "outputs": [
    {
     "data": {
      "text/plain": [
       "False"
      ]
     },
     "execution_count": 59,
     "metadata": {},
     "output_type": "execute_result"
    }
   ],
   "source": [
    "a =[2,2,4]\n",
    "b=[2,3,4]\n",
    "a>=b"
   ]
  },
  {
   "cell_type": "code",
   "execution_count": 7,
   "metadata": {},
   "outputs": [
    {
     "ename": "SyntaxError",
     "evalue": "unexpected EOF while parsing (<ipython-input-7-d331ef83d825>, line 4)",
     "output_type": "error",
     "traceback": [
      "\u001b[1;36m  File \u001b[1;32m\"<ipython-input-7-d331ef83d825>\"\u001b[1;36m, line \u001b[1;32m4\u001b[0m\n\u001b[1;33m    \u001b[0m\n\u001b[1;37m    ^\u001b[0m\n\u001b[1;31mSyntaxError\u001b[0m\u001b[1;31m:\u001b[0m unexpected EOF while parsing\n"
     ]
    }
   ],
   "source": [
    "#排序\n",
    "b=[4,3,2,1]\n",
    "def paixu():\n",
    "    "
   ]
  },
  {
   "cell_type": "code",
   "execution_count": 30,
   "metadata": {},
   "outputs": [
    {
     "ename": "IndentationError",
     "evalue": "unindent does not match any outer indentation level (<tokenize>, line 14)",
     "output_type": "error",
     "traceback": [
      "\u001b[1;36m  File \u001b[1;32m\"<tokenize>\"\u001b[1;36m, line \u001b[1;32m14\u001b[0m\n\u001b[1;33m    b = [4,3,2,1]\u001b[0m\n\u001b[1;37m    ^\u001b[0m\n\u001b[1;31mIndentationError\u001b[0m\u001b[1;31m:\u001b[0m unindent does not match any outer indentation level\n"
     ]
    }
   ],
   "source": [
    "def bubbleSort(b):\n",
    "    #结算列表长度\n",
    "    n = len(b)\n",
    " #外层循环控制从头走到尾的次数\n",
    "    # 遍历所有数组元素\n",
    "    for i in range(n):\n",
    " #用一个\n",
    "        # Last i elements are already in place\n",
    "        for j in range(0, n-i-1):\n",
    " \n",
    "            if b[j] > b[j+1] :\n",
    "                b[j], b[j+1] = b[j+1], b[j]\n",
    " \n",
    " b = [4,3,2,1]\n",
    " \n",
    " bubbleSort(b)\n",
    " \n",
    " print (\"排序后的数组:\")\n",
    "for i in range(len(b)):\n",
    "    print (\"%d\" %b[i])"
   ]
  },
  {
   "cell_type": "markdown",
   "metadata": {},
   "source": [
    "# 列表索引操作\n",
    "- Mylist[index]\n",
    "- 正序索引，逆序索引\n",
    "- 列表一定注意越界\n",
    "- ![](../Photo/117.png)"
   ]
  },
  {
   "cell_type": "markdown",
   "metadata": {},
   "source": [
    "## 列表切片操作\n",
    "- Mylist[start:end]\n",
    "- 正序切片，逆序切片"
   ]
  },
  {
   "cell_type": "markdown",
   "metadata": {},
   "source": [
    "## 列表 +、*、in 、not in"
   ]
  },
  {
   "cell_type": "markdown",
   "metadata": {},
   "source": [
    "## 使用for循环遍历元素\n",
    "- for 循环可以遍历一切可迭代元素"
   ]
  },
  {
   "cell_type": "markdown",
   "metadata": {},
   "source": [
    "## EP：\n",
    "- 使用while 循环遍历列表"
   ]
  },
  {
   "cell_type": "markdown",
   "metadata": {},
   "source": [
    "## 列表的比较\n",
    "- \\>,<,>=,<=,==,!="
   ]
  },
  {
   "cell_type": "markdown",
   "metadata": {},
   "source": [
    "## 列表生成式\n",
    "[x for x in range(10)]"
   ]
  },
  {
   "cell_type": "code",
   "execution_count": 97,
   "metadata": {},
   "outputs": [
    {
     "data": {
      "text/plain": [
       "[0,\n",
       " 2,\n",
       " 4,\n",
       " 6,\n",
       " 8,\n",
       " 10,\n",
       " 12,\n",
       " 14,\n",
       " 16,\n",
       " 18,\n",
       " 20,\n",
       " 22,\n",
       " 24,\n",
       " 26,\n",
       " 28,\n",
       " 30,\n",
       " 32,\n",
       " 34,\n",
       " 36,\n",
       " 38,\n",
       " 40,\n",
       " 42,\n",
       " 44,\n",
       " 46,\n",
       " 48,\n",
       " 50,\n",
       " 52,\n",
       " 54,\n",
       " 56,\n",
       " 58,\n",
       " 60,\n",
       " 62,\n",
       " 64,\n",
       " 66,\n",
       " 68,\n",
       " 70,\n",
       " 72,\n",
       " 74,\n",
       " 76,\n",
       " 78,\n",
       " 80,\n",
       " 82,\n",
       " 84,\n",
       " 86,\n",
       " 88,\n",
       " 90,\n",
       " 92,\n",
       " 94,\n",
       " 96,\n",
       " 98]"
      ]
     },
     "execution_count": 97,
     "metadata": {},
     "output_type": "execute_result"
    }
   ],
   "source": [
    "a=[]\n",
    "for i in range(100):\n",
    "    if i%2==0:\n",
    "        a.append(i)\n",
    "a"
   ]
  },
  {
   "cell_type": "code",
   "execution_count": 98,
   "metadata": {},
   "outputs": [
    {
     "data": {
      "text/plain": [
       "[0, 2, 4, 6, 8]"
      ]
     },
     "execution_count": 98,
     "metadata": {},
     "output_type": "execute_result"
    }
   ],
   "source": [
    "[x for x in range(10) if x%2==0]\n",
    "#这两个代码等效\n",
    "#t同样的  只能加1f  不能加else\n",
    "#列表生成式"
   ]
  },
  {
   "cell_type": "code",
   "execution_count": 99,
   "metadata": {},
   "outputs": [],
   "source": [
    "import random"
   ]
  },
  {
   "cell_type": "code",
   "execution_count": 100,
   "metadata": {},
   "outputs": [
    {
     "data": {
      "text/plain": [
       "[0.033199576931689956,\n",
       " 0.9846470855628235,\n",
       " 0.7249507944694358,\n",
       " 0.5474389271932135,\n",
       " 0.312941344440293,\n",
       " 0.7961233044063374,\n",
       " 0.8859639271544568,\n",
       " 0.8358295812069783,\n",
       " 0.5024591916287506,\n",
       " 0.4312419470158808]"
      ]
     },
     "execution_count": 100,
     "metadata": {},
     "output_type": "execute_result"
    }
   ],
   "source": [
    "[random.random() for i in range(10)]"
   ]
  },
  {
   "cell_type": "markdown",
   "metadata": {},
   "source": [
    "## 列表的方法\n",
    "![](../Photo/118.png)"
   ]
  },
  {
   "cell_type": "code",
   "execution_count": 64,
   "metadata": {},
   "outputs": [],
   "source": [
    "a=[1,2,3]\n",
    "b=[100,200]\n",
    "a.append(b)\n",
    "#只能放入一个元素  可以死列表或者函数。。。一般用作 Mi.ni batch"
   ]
  },
  {
   "cell_type": "code",
   "execution_count": 112,
   "metadata": {},
   "outputs": [
    {
     "data": {
      "text/plain": [
       "[1, 2, 3, 4]"
      ]
     },
     "execution_count": 112,
     "metadata": {},
     "output_type": "execute_result"
    }
   ],
   "source": [
    "lst=[1,2,3,4]\n",
    "lst"
   ]
  },
  {
   "cell_type": "code",
   "execution_count": 114,
   "metadata": {},
   "outputs": [
    {
     "ename": "TypeError",
     "evalue": "insert() takes exactly 2 arguments (1 given)",
     "output_type": "error",
     "traceback": [
      "\u001b[1;31m---------------------------------------------------------------------------\u001b[0m",
      "\u001b[1;31mTypeError\u001b[0m                                 Traceback (most recent call last)",
      "\u001b[1;32m<ipython-input-114-e0f3b95a4f02>\u001b[0m in \u001b[0;36m<module>\u001b[1;34m\u001b[0m\n\u001b[1;32m----> 1\u001b[1;33m \u001b[0mlst\u001b[0m\u001b[1;33m.\u001b[0m\u001b[0minsert\u001b[0m\u001b[1;33m(\u001b[0m\u001b[1;33m[\u001b[0m\u001b[1;36m1\u001b[0m\u001b[1;33m,\u001b[0m\u001b[1;36m43\u001b[0m\u001b[1;33m]\u001b[0m\u001b[1;33m)\u001b[0m\u001b[1;33m\u001b[0m\u001b[1;33m\u001b[0m\u001b[0m\n\u001b[0m",
      "\u001b[1;31mTypeError\u001b[0m: insert() takes exactly 2 arguments (1 given)"
     ]
    }
   ],
   "source": [
    "lst.insert([1,43])"
   ]
  },
  {
   "cell_type": "code",
   "execution_count": 65,
   "metadata": {},
   "outputs": [
    {
     "data": {
      "text/plain": [
       "[1, 2, 3, [100, 200]]"
      ]
     },
     "execution_count": 65,
     "metadata": {},
     "output_type": "execute_result"
    }
   ],
   "source": [
    "a\n"
   ]
  },
  {
   "cell_type": "code",
   "execution_count": 67,
   "metadata": {},
   "outputs": [
    {
     "data": {
      "text/plain": [
       "1"
      ]
     },
     "execution_count": 67,
     "metadata": {},
     "output_type": "execute_result"
    }
   ],
   "source": [
    "a=[1,2,3,4,[1,2],8]\n",
    "a.count(1)"
   ]
  },
  {
   "cell_type": "code",
   "execution_count": 8,
   "metadata": {},
   "outputs": [],
   "source": [
    "a= [1,2,3]\n",
    "b=[100,200]\n",
    "b.extend(a)\n",
    "#+号不改变原数据  extend返回原数据"
   ]
  },
  {
   "cell_type": "code",
   "execution_count": 9,
   "metadata": {},
   "outputs": [
    {
     "data": {
      "text/plain": [
       "[100, 200, 1, 2, 3]"
      ]
     },
     "execution_count": 9,
     "metadata": {},
     "output_type": "execute_result"
    }
   ],
   "source": [
    "b"
   ]
  },
  {
   "cell_type": "code",
   "execution_count": 10,
   "metadata": {},
   "outputs": [
    {
     "data": {
      "text/plain": [
       "[100, 1, 2, 100, 3, 3, 100]"
      ]
     },
     "execution_count": 10,
     "metadata": {},
     "output_type": "execute_result"
    }
   ],
   "source": [
    "c=[1,2,3,3]\n",
    "c.insert(0,100)\n",
    "c.insert(3,100)\n",
    "c.insert(6,100)\n",
    "c\n",
    "#数据的插入操作"
   ]
  },
  {
   "cell_type": "code",
   "execution_count": 82,
   "metadata": {},
   "outputs": [
    {
     "data": {
      "text/plain": [
       "[100, 100, 1, 100, 2, 100, 100, 3, 3, 100, 100]"
      ]
     },
     "execution_count": 82,
     "metadata": {},
     "output_type": "execute_result"
    }
   ],
   "source": [
    "b=[1,2,3,4,5,6,7,8,9,10]\n",
    "for i in range(0,len(c)+5,3):\n",
    "        c.insert(i,100)\n",
    "c\n",
    "#在基数面前加100"
   ]
  },
  {
   "cell_type": "code",
   "execution_count": 85,
   "metadata": {},
   "outputs": [
    {
     "ename": "TypeError",
     "evalue": "'list' object is not callable",
     "output_type": "error",
     "traceback": [
      "\u001b[1;31m---------------------------------------------------------------------------\u001b[0m",
      "\u001b[1;31mTypeError\u001b[0m                                 Traceback (most recent call last)",
      "\u001b[1;32m<ipython-input-85-7e01e9332b0b>\u001b[0m in \u001b[0;36m<module>\u001b[1;34m\u001b[0m\n\u001b[0;32m      1\u001b[0m \u001b[1;31m#在基数面前加100\u001b[0m\u001b[1;33m\u001b[0m\u001b[1;33m\u001b[0m\u001b[1;33m\u001b[0m\u001b[0m\n\u001b[0;32m      2\u001b[0m \u001b[0mb\u001b[0m\u001b[1;33m=\u001b[0m\u001b[1;33m[\u001b[0m\u001b[1;36m6\u001b[0m\u001b[1;33m,\u001b[0m\u001b[1;36m4\u001b[0m\u001b[1;33m,\u001b[0m\u001b[1;36m5\u001b[0m\u001b[1;33m,\u001b[0m\u001b[1;36m3\u001b[0m\u001b[1;33m,\u001b[0m\u001b[1;36m1\u001b[0m\u001b[1;33m,\u001b[0m\u001b[1;36m2\u001b[0m\u001b[1;33m,\u001b[0m\u001b[1;36m9\u001b[0m\u001b[1;33m]\u001b[0m\u001b[1;33m\u001b[0m\u001b[1;33m\u001b[0m\u001b[0m\n\u001b[1;32m----> 3\u001b[1;33m \u001b[1;32mfor\u001b[0m \u001b[0mi\u001b[0m \u001b[1;32min\u001b[0m \u001b[0mb\u001b[0m\u001b[1;33m(\u001b[0m\u001b[1;33m)\u001b[0m\u001b[1;33m:\u001b[0m\u001b[1;33m\u001b[0m\u001b[1;33m\u001b[0m\u001b[0m\n\u001b[0m\u001b[0;32m      4\u001b[0m     \u001b[1;32mif\u001b[0m \u001b[0mb\u001b[0m\u001b[1;33m%\u001b[0m\u001b[1;36m2\u001b[0m\u001b[1;33m==\u001b[0m\u001b[1;36m100\u001b[0m\u001b[1;33m:\u001b[0m\u001b[1;33m\u001b[0m\u001b[1;33m\u001b[0m\u001b[0m\n\u001b[0;32m      5\u001b[0m         \u001b[0mprint\u001b[0m\u001b[1;33m(\u001b[0m\u001b[1;33m)\u001b[0m\u001b[1;33m\u001b[0m\u001b[1;33m\u001b[0m\u001b[0m\n",
      "\u001b[1;31mTypeError\u001b[0m: 'list' object is not callable"
     ]
    }
   ],
   "source": [
    "#在基数面前加100   这个是作业\n",
    "b=[6,4,5,3,1,2,9]\n",
    "for i in b():\n",
    "    if b%2==100:\n",
    "        print()\n",
    "    else:\n",
    "        b.insert(b,100)\n",
    "b"
   ]
  },
  {
   "cell_type": "code",
   "execution_count": null,
   "metadata": {},
   "outputs": [],
   "source": []
  },
  {
   "cell_type": "code",
   "execution_count": 87,
   "metadata": {},
   "outputs": [
    {
     "ename": "ValueError",
     "evalue": "list.remove(x): x not in list",
     "output_type": "error",
     "traceback": [
      "\u001b[1;31m---------------------------------------------------------------------------\u001b[0m",
      "\u001b[1;31mValueError\u001b[0m                                Traceback (most recent call last)",
      "\u001b[1;32m<ipython-input-87-827cf18ce4cd>\u001b[0m in \u001b[0;36m<module>\u001b[1;34m\u001b[0m\n\u001b[1;32m----> 1\u001b[1;33m \u001b[0ma\u001b[0m\u001b[1;33m.\u001b[0m\u001b[0mremove\u001b[0m\u001b[1;33m(\u001b[0m\u001b[1;33m[\u001b[0m\u001b[1;36m2\u001b[0m\u001b[1;33m,\u001b[0m\u001b[1;36m3\u001b[0m\u001b[1;33m]\u001b[0m\u001b[1;33m)\u001b[0m\u001b[1;33m\u001b[0m\u001b[1;33m\u001b[0m\u001b[0m\n\u001b[0m\u001b[0;32m      2\u001b[0m \u001b[0ma\u001b[0m\u001b[1;33m\u001b[0m\u001b[1;33m\u001b[0m\u001b[0m\n",
      "\u001b[1;31mValueError\u001b[0m: list.remove(x): x not in list"
     ]
    }
   ],
   "source": [
    "a.remove([2,3])\n",
    "a"
   ]
  },
  {
   "cell_type": "code",
   "execution_count": 101,
   "metadata": {},
   "outputs": [
    {
     "data": {
      "text/plain": [
       "3"
      ]
     },
     "execution_count": 101,
     "metadata": {},
     "output_type": "execute_result"
    }
   ],
   "source": [
    "a=[1,2,3]\n",
    "a.pop()"
   ]
  },
  {
   "cell_type": "code",
   "execution_count": 103,
   "metadata": {},
   "outputs": [
    {
     "data": {
      "text/plain": [
       "2"
      ]
     },
     "execution_count": 103,
     "metadata": {},
     "output_type": "execute_result"
    }
   ],
   "source": [
    "a=[1,2,3]\n",
    "a.pop(1)\n",
    "#命令操作"
   ]
  },
  {
   "cell_type": "code",
   "execution_count": 115,
   "metadata": {},
   "outputs": [
    {
     "data": {
      "text/plain": [
       "[4, 1, 3, 2, 5]"
      ]
     },
     "execution_count": 115,
     "metadata": {},
     "output_type": "execute_result"
    }
   ],
   "source": [
    "a=[1,2,3,4,5]\n",
    "random.shuffle(a)\n",
    "a\n",
    "#随机打乱里面的数"
   ]
  },
  {
   "cell_type": "markdown",
   "metadata": {},
   "source": [
    "## 将字符串分割成列表\n",
    "- split  按照自定义的内容拆分"
   ]
  },
  {
   "cell_type": "code",
   "execution_count": 106,
   "metadata": {},
   "outputs": [
    {
     "data": {
      "text/plain": [
       "['我', '是', '小', '仙', '女']"
      ]
     },
     "execution_count": 106,
     "metadata": {},
     "output_type": "execute_result"
    }
   ],
   "source": [
    "a='我$是$小$仙$女'\n",
    "a.split('$')"
   ]
  },
  {
   "cell_type": "code",
   "execution_count": 109,
   "metadata": {},
   "outputs": [
    {
     "data": {
      "text/plain": [
       "['a', 'b', 'c d']"
      ]
     },
     "execution_count": 109,
     "metadata": {},
     "output_type": "execute_result"
    }
   ],
   "source": [
    "a='a b c d'\n",
    "a.split(' ',2)"
   ]
  },
  {
   "cell_type": "markdown",
   "metadata": {},
   "source": [
    "## EP:\n",
    "![](../Photo/119.png)\n",
    "![](../Photo/120.png)"
   ]
  },
  {
   "cell_type": "code",
   "execution_count": 124,
   "metadata": {},
   "outputs": [
    {
     "data": {
      "text/plain": [
       "[1, 2, 3, 4, 5, 5, [1, 2, 3, 0]]"
      ]
     },
     "execution_count": 124,
     "metadata": {},
     "output_type": "execute_result"
    }
   ],
   "source": [
    "import copy\n",
    "a=[1,2,3,4,5,5,[1,2,3,0] ]\n",
    "d=a.copy()\n",
    "    \n",
    "d"
   ]
  },
  {
   "cell_type": "code",
   "execution_count": null,
   "metadata": {},
   "outputs": [],
   "source": []
  },
  {
   "cell_type": "code",
   "execution_count": 123,
   "metadata": {},
   "outputs": [
    {
     "ename": "NameError",
     "evalue": "name 'copy' is not defined",
     "output_type": "error",
     "traceback": [
      "\u001b[1;31m---------------------------------------------------------------------------\u001b[0m",
      "\u001b[1;31mNameError\u001b[0m                                 Traceback (most recent call last)",
      "\u001b[1;32m<ipython-input-123-7885bde55a4f>\u001b[0m in \u001b[0;36m<module>\u001b[1;34m\u001b[0m\n\u001b[0;32m      1\u001b[0m \u001b[0ma\u001b[0m\u001b[1;33m=\u001b[0m\u001b[1;33m[\u001b[0m\u001b[1;36m1\u001b[0m\u001b[1;33m,\u001b[0m\u001b[1;36m2\u001b[0m\u001b[1;33m,\u001b[0m\u001b[1;36m3\u001b[0m\u001b[1;33m,\u001b[0m\u001b[1;36m4\u001b[0m\u001b[1;33m,\u001b[0m\u001b[1;36m5\u001b[0m\u001b[1;33m,\u001b[0m\u001b[1;36m5\u001b[0m\u001b[1;33m,\u001b[0m\u001b[1;33m[\u001b[0m\u001b[1;36m1\u001b[0m\u001b[1;33m,\u001b[0m\u001b[1;36m2\u001b[0m\u001b[1;33m,\u001b[0m\u001b[1;36m3\u001b[0m\u001b[1;33m,\u001b[0m\u001b[1;36m0\u001b[0m\u001b[1;33m]\u001b[0m\u001b[1;33m]\u001b[0m\u001b[1;33m\u001b[0m\u001b[1;33m\u001b[0m\u001b[0m\n\u001b[1;32m----> 2\u001b[1;33m \u001b[0md\u001b[0m\u001b[1;33m=\u001b[0m\u001b[0mcopy\u001b[0m\u001b[1;33m.\u001b[0m\u001b[0mdeepcopy\u001b[0m\u001b[1;33m(\u001b[0m\u001b[0ma\u001b[0m\u001b[1;33m)\u001b[0m\u001b[1;33m\u001b[0m\u001b[1;33m\u001b[0m\u001b[0m\n\u001b[0m\u001b[0;32m      3\u001b[0m \u001b[0md\u001b[0m\u001b[1;33m\u001b[0m\u001b[1;33m\u001b[0m\u001b[0m\n",
      "\u001b[1;31mNameError\u001b[0m: name 'copy' is not defined"
     ]
    }
   ],
   "source": [
    "a=[1,2,3,4,5,5,[1,2,3,0]]\n",
    "d=copy.deepcopy(a)    \n",
    "d"
   ]
  },
  {
   "cell_type": "code",
   "execution_count": 127,
   "metadata": {},
   "outputs": [
    {
     "data": {
      "text/plain": [
       "5000"
      ]
     },
     "execution_count": 127,
     "metadata": {},
     "output_type": "execute_result"
    }
   ],
   "source": [
    "e=[3][0]=5000\n",
    "e"
   ]
  },
  {
   "cell_type": "markdown",
   "metadata": {},
   "source": [
    "## 列表的复制\n",
    "- copy 浅复制\n",
    "- deepcopy import copy  深复制\n",
    "- http://www.pythontutor.com/visualize.html#mode=edit"
   ]
  },
  {
   "cell_type": "markdown",
   "metadata": {},
   "source": [
    "## 列表排序\n",
    "- sort\n",
    "- sorted\n",
    "- 列表的多级排序\n",
    "    - 匿名函数"
   ]
  },
  {
   "cell_type": "code",
   "execution_count": 12,
   "metadata": {},
   "outputs": [
    {
     "name": "stdout",
     "output_type": "stream",
     "text": [
      "100\n"
     ]
    }
   ],
   "source": [
    "#匿名函数\n",
    "(lambda x:print(x))(100)"
   ]
  },
  {
   "cell_type": "code",
   "execution_count": 92,
   "metadata": {},
   "outputs": [
    {
     "data": {
      "text/plain": [
       "[['sijiu', 0], ['erjiu', 90], ['dajiu', 100], ['sanjiu', 200]]"
      ]
     },
     "execution_count": 92,
     "metadata": {},
     "output_type": "execute_result"
    }
   ],
   "source": [
    "c = [['dajiu',100],['erjiu',90],['sanjiu',200],['sijiu',0]]\n",
    "c.sort(key=lambda x:x[1])\n",
    "c"
   ]
  },
  {
   "cell_type": "code",
   "execution_count": null,
   "metadata": {},
   "outputs": [],
   "source": [
    "\n",
    "c=[1,3,4]\n",
    "c.sort(reverse=True)\n",
    "c"
   ]
  },
  {
   "cell_type": "code",
   "execution_count": 93,
   "metadata": {},
   "outputs": [
    {
     "data": {
      "text/plain": [
       "[1, 1, 3, 5]"
      ]
     },
     "execution_count": 93,
     "metadata": {},
     "output_type": "execute_result"
    }
   ],
   "source": [
    "a=[1,3,1,5]\n",
    "sorted(a,reverse=True,key=lanmbdax:x)\n",
    "#能用sorted就不要用sort"
   ]
  },
  {
   "cell_type": "markdown",
   "metadata": {},
   "source": [
    "## EP：\n",
    "- 手动排序该列表[5,3,8,0,17]，以升序或者降序"
   ]
  },
  {
   "cell_type": "markdown",
   "metadata": {},
   "source": [
    "- 1\n",
    "![](../Photo/121.png)"
   ]
  },
  {
   "cell_type": "code",
   "execution_count": 14,
   "metadata": {},
   "outputs": [
    {
     "name": "stdout",
     "output_type": "stream",
     "text": [
      "40 璀璨钻石\n",
      "55 超凡大师\n",
      "70 最强王者\n",
      "58 超凡大师\n"
     ]
    }
   ],
   "source": [
    "chengji=[40,55,70,58]\n",
    "zuigao=max(chengji)\n",
    "for i in chengji:\n",
    "    if i >= zuigao-10:\n",
    "        print(i,\"最强王者\")\n",
    "    elif i >= zuigao-20:\n",
    "        print(i,\"超凡大师\")\n",
    "    elif i >= zuigao-30:\n",
    "        print(i,\"璀璨钻石\")\n",
    "    elif i >=zuigao-40:\n",
    "        print(i,\"牛逼塑料\")"
   ]
  },
  {
   "cell_type": "markdown",
   "metadata": {},
   "source": [
    "- 2\n",
    "![](../Photo/122.png)"
   ]
  },
  {
   "cell_type": "code",
   "execution_count": 33,
   "metadata": {},
   "outputs": [
    {
     "name": "stdout",
     "output_type": "stream",
     "text": [
      "排序后的数组:\n",
      "1\n",
      "2\n",
      "3\n",
      "4\n"
     ]
    }
   ],
   "source": [
    "def bubbleSort(b):\n",
    "    #结算列表长度\n",
    "    n = len(b)\n",
    " #外层循环控制从头走到尾的次数\n",
    "    # 遍历所有数组元素\n",
    "    for i in range(n):\n",
    " #用一个\n",
    "        # Last i elements are already in place\n",
    "        for j in range(0, n-i-1):\n",
    " \n",
    "            if b[j] > b[j+1] :\n",
    "                b[j], b[j+1] = b[j+1], b[j]\n",
    "b = [4,3,2,1] \n",
    "bubbleSort(b) \n",
    "print (\"排序后的数组:\")\n",
    "for i in range(len(b)):\n",
    "    print (\"%d\" %b[i])"
   ]
  },
  {
   "cell_type": "markdown",
   "metadata": {},
   "source": [
    "- 3\n",
    "![](../Photo/123.png)"
   ]
  },
  {
   "cell_type": "code",
   "execution_count": 36,
   "metadata": {},
   "outputs": [
    {
     "name": "stdout",
     "output_type": "stream",
     "text": [
      "2 2\n",
      "5 2\n",
      "6 1\n",
      "5 2\n",
      "4 1\n",
      "3 1\n",
      "23 1\n",
      "43 1\n",
      "2 2\n"
     ]
    }
   ],
   "source": [
    "a=[2,5,6,5,4,3,23,43,2]\n",
    "for b in a:\n",
    "    c=a.count(b)\n",
    "    print(b,c)"
   ]
  },
  {
   "cell_type": "markdown",
   "metadata": {},
   "source": [
    "- 4\n",
    "![](../Photo/124.png)"
   ]
  },
  {
   "cell_type": "code",
   "execution_count": 37,
   "metadata": {},
   "outputs": [
    {
     "name": "stdout",
     "output_type": "stream",
     "text": [
      "略高 3 略低 5\n"
     ]
    }
   ],
   "source": [
    "fen=[18,32,99,100,82,60,59,61]\n",
    "a=sum(fen)/len(fen)\n",
    "gao=0\n",
    "di=0\n",
    "for i in fen :\n",
    "    if i>a:\n",
    "        gao+=1\n",
    "    elif i<a:\n",
    "        di+=1\n",
    "print(\"略高\",gao,\"略低\",di)"
   ]
  },
  {
   "cell_type": "markdown",
   "metadata": {},
   "source": [
    "- 5\n",
    "![](../Photo/125.png)"
   ]
  },
  {
   "cell_type": "code",
   "execution_count": 11,
   "metadata": {},
   "outputs": [
    {
     "name": "stdout",
     "output_type": "stream",
     "text": [
      "[1, 5, 6, 6, 7, 7, 4, 8, 3, 3, 7, 1, 6, 2, 4, 6, 6, 6, 7, 7, 5, 5, 7, 5, 3, 6, 4, 2, 5, 4, 1, 4, 3, 8, 2, 7, 4, 6, 2, 0, 0, 8, 8, 5, 2, 7, 2, 0, 7, 2, 2, 6, 7, 8, 3, 4, 2, 7, 7, 8, 4, 5, 7, 1, 1, 4, 0, 5, 1, 2, 4, 3, 7, 4, 2, 1, 5, 8, 0, 0, 7, 2, 1, 6, 2, 2, 8, 2, 1, 6, 5, 6, 2, 5, 8, 5, 4, 6, 8, 5, 4, 3, 4, 1, 6, 3, 5, 2, 6, 4, 5, 8, 4, 0, 8, 4, 0, 2, 5, 2, 2, 5, 0, 1, 1, 7, 3, 3, 1, 8, 6, 5, 4, 2, 2, 4, 5, 0, 5, 5, 8, 5, 5, 8, 3, 3, 1, 2, 8, 0, 8, 2, 3, 8, 8, 6, 2, 8, 6, 3, 7, 0, 2, 7, 1, 4, 2, 5, 2, 2, 8, 7, 5, 8, 5, 2, 8, 3, 4, 8, 1, 0, 1, 8, 8, 3, 7, 5, 1, 8, 3, 4, 8, 5, 2, 0, 0, 2, 4, 1, 7, 0, 4, 1, 0, 0, 1, 8, 5, 2, 8, 7, 1, 5, 2, 6, 6, 8, 3, 8, 4, 4, 8, 4, 3, 0, 0, 0, 8, 2, 4, 7, 0, 1, 7, 8, 3, 6, 2, 4, 7, 1, 1, 5, 4, 4, 5, 2, 1, 7, 3, 8, 8, 4, 6, 1, 8, 1, 3, 7, 0, 3, 1, 6, 1, 7, 2, 3, 4, 7, 5, 6, 2, 5, 6, 3, 0, 5, 4, 8, 3, 2, 2, 2, 6, 7, 6, 3, 0, 4, 6, 6, 1, 1, 6, 6, 3, 6, 5, 8, 1, 1, 0, 0, 5, 6, 2, 6, 1, 0, 5, 6, 6, 0, 1, 0, 7, 7, 5, 6, 1, 3, 5, 0, 4, 4, 3, 7, 7, 8, 3, 3, 2, 7, 2, 7, 6, 4, 6, 0, 4, 7, 5, 6, 8, 8, 7, 1, 2, 7, 3, 3, 2, 3, 0, 7, 1, 8, 7, 5, 8, 6, 1, 4, 2, 8, 3, 3, 2, 2, 4, 6, 3, 4, 3, 7, 6, 1, 5, 5, 4, 3, 4, 6, 7, 0, 7, 4, 0, 7, 8, 3, 4, 2, 8, 4, 5, 6, 3, 3, 2, 1, 3, 6, 7, 0, 0, 5, 4, 6, 6, 0, 0, 8, 0, 6, 6, 5, 3, 3, 2, 8, 3, 8, 7, 6, 3, 3, 3, 2, 1, 2, 2, 8, 5, 8, 7, 5, 8, 3, 0, 5, 0, 8, 4, 1, 2, 8, 6, 3, 2, 6, 3, 3, 8, 3, 5, 4, 0, 1, 6, 7, 3, 6, 5, 5, 3, 7, 3, 0, 8, 8, 5, 0, 7, 4, 4, 3, 7, 7, 4, 2, 2, 6, 3, 3, 1, 0, 2, 7, 7, 7, 3, 6, 2, 7, 0, 8, 1, 7, 5, 1, 8, 7, 6, 8, 3, 1, 0, 8, 7, 0, 5, 5, 5, 0, 8, 5, 6, 0, 5, 6, 5, 7, 4, 7, 1, 6, 5, 2, 0, 2, 6, 6, 2, 1, 8, 6, 6, 1, 6, 1, 4, 6, 2, 7, 8, 6, 5, 8, 1, 2, 5, 5, 1, 8, 3, 4, 7, 6, 4, 1, 4, 5, 2, 6, 2, 0, 5, 6, 7, 0, 7, 6, 7, 3, 6, 7, 7, 1, 0, 3, 6, 8, 7, 4, 5, 1, 2, 4, 6, 4, 5, 4, 5, 0, 5, 5, 4, 3, 6, 6, 5, 6, 4, 1, 1, 6, 0, 1, 5, 2, 3, 5, 2, 3, 4, 8, 0, 2, 7, 6, 1, 0, 1, 8, 5, 7, 0, 0, 1, 7, 2, 1, 2, 4, 0, 7, 8, 4, 8, 5, 2, 5, 1, 0, 5, 8, 7, 6, 3, 3, 7, 3, 3, 4, 3, 8, 5, 1, 4, 3, 7, 7, 6, 6, 8, 8, 7, 8, 3, 6, 7, 2, 0, 8, 4, 2, 0, 8, 0, 5, 3, 3, 0, 7, 4, 0, 1, 2, 4, 4, 6, 3, 6, 1, 5, 2, 0, 0, 6, 1, 6, 7, 1, 6, 8, 2, 0, 7, 4, 0, 8, 6, 1, 1, 0, 6, 8, 6, 2, 0, 7, 4, 5, 0, 2, 6, 2, 5, 0, 5, 3, 2, 1, 3, 4, 1, 1, 7, 6, 6, 4, 4, 1, 0, 0, 4, 3, 3, 2, 1, 5, 1, 2, 5, 7, 6, 8, 5, 3, 6, 8, 3, 1, 7, 2, 2, 4, 3, 8, 8, 8, 3, 7, 7, 4, 6, 7, 6, 2, 5, 0, 8, 7, 0, 8, 6, 8, 2, 8, 0, 1, 7, 6, 0, 8, 0, 8, 2, 3, 3, 2, 5, 2, 3, 6, 7, 4, 5, 8, 7, 6, 4, 0, 8, 2, 7, 5, 1, 4, 0, 2, 3, 2, 1, 7, 2, 3, 6, 0, 3, 2, 3, 6, 2, 2, 5, 5, 7, 4, 3, 6, 8, 0, 7, 7, 3, 0, 8, 3, 1, 3, 4, 5, 1, 8, 4, 5, 5, 2, 8, 4, 8, 1, 4, 1, 8, 8, 2, 1, 5, 2, 1, 5, 5, 7, 6, 0, 7, 2, 4, 2, 0, 4, 3, 5, 1, 3, 6, 8, 2, 1, 0, 3, 2, 7, 6, 1, 3, 8, 6, 4, 5, 1, 6, 0, 2, 7, 7, 0, 6, 1, 8, 0, 3, 8, 1, 5, 0, 7, 1, 5, 3, 7, 4, 3, 5, 2, 0, 0, 4, 4, 3, 6, 8, 8, 3, 0, 1, 0, 0, 2, 3, 6, 7, 3, 0, 8, 6, 8, 1, 8, 0, 2, 2, 0, 3, 0, 5, 0, 3, 7, 3, 1, 1, 7, 6, 3, 7, 0, 8, 6, 0, 7, 6, 8, 5, 8, 2, 4, 0, 6, 1, 4, 0, 7, 7, 6, 6, 3, 6, 5, 0, 5, 8, 0, 4, 3, 7]\n"
     ]
    },
    {
     "ename": "TypeError",
     "evalue": "'set' object is not subscriptable",
     "output_type": "error",
     "traceback": [
      "\u001b[1;31m---------------------------------------------------------------------------\u001b[0m",
      "\u001b[1;31mTypeError\u001b[0m                                 Traceback (most recent call last)",
      "\u001b[1;32m<ipython-input-11-beced3d0f0b5>\u001b[0m in \u001b[0;36m<module>\u001b[1;34m\u001b[0m\n\u001b[0;32m     13\u001b[0m \u001b[1;32mwhile\u001b[0m \u001b[0mz\u001b[0m\u001b[1;33m>\u001b[0m\u001b[1;36m0\u001b[0m\u001b[1;33m:\u001b[0m\u001b[1;33m\u001b[0m\u001b[1;33m\u001b[0m\u001b[0m\n\u001b[0;32m     14\u001b[0m     \u001b[0mz\u001b[0m\u001b[1;33m-=\u001b[0m\u001b[1;36m1\u001b[0m\u001b[1;33m\u001b[0m\u001b[1;33m\u001b[0m\u001b[0m\n\u001b[1;32m---> 15\u001b[1;33m     \u001b[0mprint\u001b[0m\u001b[1;33m(\u001b[0m\u001b[0mc\u001b[0m\u001b[1;33m[\u001b[0m\u001b[0mz\u001b[0m\u001b[1;33m]\u001b[0m\u001b[1;33m)\u001b[0m\u001b[1;33m\u001b[0m\u001b[1;33m\u001b[0m\u001b[0m\n\u001b[0m\u001b[0;32m     16\u001b[0m     \u001b[0mprint\u001b[0m\u001b[1;33m(\u001b[0m\u001b[0mf\u001b[0m\u001b[1;33m[\u001b[0m\u001b[0mz\u001b[0m\u001b[1;33m]\u001b[0m\u001b[1;33m)\u001b[0m\u001b[1;33m\u001b[0m\u001b[1;33m\u001b[0m\u001b[0m\n",
      "\u001b[1;31mTypeError\u001b[0m: 'set' object is not subscriptable"
     ]
    }
   ],
   "source": [
    "import random\n",
    "i=0\n",
    "list=[]\n",
    "while i<1000:\n",
    "    i+=1\n",
    "    list.append(random.randrange(9))\n",
    "print(list)\n",
    "c=set(list)\n",
    "f=[]\n",
    "for a in c:\n",
    "    f.append(list.count(a))\n",
    "z=len(f)\n",
    "while z>0:\n",
    "    z-=1\n",
    "    print(c[z])\n",
    "    print(f[z])"
   ]
  },
  {
   "cell_type": "markdown",
   "metadata": {},
   "source": [
    "- 6\n",
    "![](../Photo/126.png)"
   ]
  },
  {
   "cell_type": "code",
   "execution_count": 45,
   "metadata": {},
   "outputs": [
    {
     "data": {
      "text/plain": [
       "0"
      ]
     },
     "execution_count": 45,
     "metadata": {},
     "output_type": "execute_result"
    }
   ],
   "source": [
    "a=[1,2,3,4,True]\n",
    "min(a)\n",
    "a.index(min(a))"
   ]
  },
  {
   "cell_type": "markdown",
   "metadata": {},
   "source": [
    "- 7\n",
    "![](../Photo/127.png)\n",
    "![](../Photo/128.png)"
   ]
  },
  {
   "cell_type": "code",
   "execution_count": 4,
   "metadata": {},
   "outputs": [
    {
     "name": "stdout",
     "output_type": "stream",
     "text": [
      "['1', '3', '2', '1', '3', '2', '1']\n"
     ]
    }
   ],
   "source": [
    "x='1231231'\n",
    "c=[]\n",
    "z=[]\n",
    "e=0\n",
    "def shuffle(lll):\n",
    "    for i in x:\n",
    "        c.append(i)\n",
    "    m=len(c)\n",
    "    m=m-1\n",
    "    while m>=0:\n",
    "        z.append(c[m])\n",
    "        m-=1\n",
    "    return z\n",
    "\n",
    "n=shuffle(x)\n",
    "print(n)"
   ]
  },
  {
   "cell_type": "markdown",
   "metadata": {},
   "source": [
    "- 8\n",
    "![](../Photo/129.png)"
   ]
  },
  {
   "cell_type": "code",
   "execution_count": 5,
   "metadata": {},
   "outputs": [
    {
     "name": "stdout",
     "output_type": "stream",
     "text": [
      "['2', '1', '3']\n"
     ]
    }
   ],
   "source": [
    "x='1231231'\n",
    "a=0\n",
    "c=[]\n",
    "z=[]\n",
    "e=0\n",
    "def emilaaa(f):\n",
    "    c=list(set(f))\n",
    "    return  c\n",
    "a=emilaaa(x)\n",
    "print(a)"
   ]
  },
  {
   "cell_type": "markdown",
   "metadata": {},
   "source": [
    "- 9\n",
    "![](../Photo/130.png)"
   ]
  },
  {
   "cell_type": "code",
   "execution_count": 3,
   "metadata": {},
   "outputs": [
    {
     "name": "stdout",
     "output_type": "stream",
     "text": [
      "请输入一串数字1 2 4 6 7\n"
     ]
    },
    {
     "ename": "TypeError",
     "evalue": "'NoneType' object is not iterable",
     "output_type": "error",
     "traceback": [
      "\u001b[1;31m---------------------------------------------------------------------------\u001b[0m",
      "\u001b[1;31mTypeError\u001b[0m                                 Traceback (most recent call last)",
      "\u001b[1;32m<ipython-input-3-a979c6f01079>\u001b[0m in \u001b[0;36m<module>\u001b[1;34m\u001b[0m\n\u001b[0;32m      5\u001b[0m \u001b[0mb\u001b[0m\u001b[1;33m=\u001b[0m\u001b[0mc\u001b[0m\u001b[1;33m.\u001b[0m\u001b[0msort\u001b[0m\u001b[1;33m(\u001b[0m\u001b[1;33m)\u001b[0m\u001b[1;33m\u001b[0m\u001b[1;33m\u001b[0m\u001b[0m\n\u001b[0;32m      6\u001b[0m \u001b[1;32mfor\u001b[0m \u001b[0mv\u001b[0m \u001b[1;32min\u001b[0m \u001b[0mx\u001b[0m\u001b[1;33m:\u001b[0m\u001b[1;33m\u001b[0m\u001b[1;33m\u001b[0m\u001b[0m\n\u001b[1;32m----> 7\u001b[1;33m     \u001b[1;32mfor\u001b[0m \u001b[0mn\u001b[0m \u001b[1;32min\u001b[0m \u001b[0mb\u001b[0m\u001b[1;33m:\u001b[0m\u001b[1;33m\u001b[0m\u001b[1;33m\u001b[0m\u001b[0m\n\u001b[0m\u001b[0;32m      8\u001b[0m         \u001b[1;32mif\u001b[0m \u001b[0mv\u001b[0m\u001b[1;33m==\u001b[0m\u001b[0mn\u001b[0m\u001b[1;33m:\u001b[0m\u001b[1;33m\u001b[0m\u001b[1;33m\u001b[0m\u001b[0m\n\u001b[0;32m      9\u001b[0m             \u001b[1;32mbreak\u001b[0m\u001b[1;33m\u001b[0m\u001b[1;33m\u001b[0m\u001b[0m\n",
      "\u001b[1;31mTypeError\u001b[0m: 'NoneType' object is not iterable"
     ]
    }
   ],
   "source": [
    "x=input(\"请输入一串数字\")\n",
    "c=[]\n",
    "for i in x:\n",
    "    c.append(i)\n",
    "b=c.sort()\n",
    "for v in x:\n",
    "    for n in b:\n",
    "        if v==n:\n",
    "            break\n",
    "        else:\n",
    "            print('没有排好序')\n",
    "    print('排好了')"
   ]
  },
  {
   "cell_type": "markdown",
   "metadata": {},
   "source": [
    "- 10\n",
    "![](../Photo/131.png)"
   ]
  },
  {
   "cell_type": "code",
   "execution_count": 46,
   "metadata": {},
   "outputs": [
    {
     "name": "stdout",
     "output_type": "stream",
     "text": [
      "排序后的数组:\n",
      "1\n",
      "2\n",
      "3\n",
      "4\n"
     ]
    }
   ],
   "source": [
    "def bubbleSort(b):\n",
    "    #结算列表长度\n",
    "    n = len(b)\n",
    " #外层循环控制从头走到尾的次数\n",
    "    # 遍历所有数组元素\n",
    "    for i in range(n):\n",
    " #用一个\n",
    "        # Last i elements are already in place\n",
    "        for j in range(0, n-i-1):\n",
    " \n",
    "            if b[j] > b[j+1] :\n",
    "                b[j], b[j+1] = b[j+1], b[j]\n",
    "b = [4,3,2,1] \n",
    "bubbleSort(b) \n",
    "print (\"排序后的数组:\")\n",
    "for i in range(len(b)):\n",
    "    print (\"%d\" %b[i])"
   ]
  },
  {
   "cell_type": "markdown",
   "metadata": {},
   "source": [
    "- 11\n",
    "![](../Photo/132.png)"
   ]
  },
  {
   "cell_type": "markdown",
   "metadata": {},
   "source": [
    "- 12\n",
    "![](../Photo/133.png)"
   ]
  },
  {
   "cell_type": "code",
   "execution_count": null,
   "metadata": {},
   "outputs": [],
   "source": []
  }
 ],
 "metadata": {
  "kernelspec": {
   "display_name": "Python 3",
   "language": "python",
   "name": "python3"
  },
  "language_info": {
   "codemirror_mode": {
    "name": "ipython",
    "version": 3
   },
   "file_extension": ".py",
   "mimetype": "text/x-python",
   "name": "python",
   "nbconvert_exporter": "python",
   "pygments_lexer": "ipython3",
   "version": "3.7.3"
  }
 },
 "nbformat": 4,
 "nbformat_minor": 2
}
