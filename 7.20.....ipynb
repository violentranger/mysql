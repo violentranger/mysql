{
 "cells": [
  {
   "cell_type": "markdown",
   "metadata": {},
   "source": [
    "# 函数\n",
    "\n",
    "- 函数可以用来定义可重复代码，组织和简化\n",
    "- 一般来说一个函数在实际开发中为一个小功能\n",
    "- 一个类为一个大功能\n",
    "- 同样函数的长度不要超过一屏"
   ]
  },
  {
   "cell_type": "markdown",
   "metadata": {},
   "source": [
    "Python中的所有函数实际上都是有返回值(return None),\n",
    "\n",
    "如果你没有设置return,那么Python将不显示None.\n",
    "\n",
    "如果你设置return,那么将返回出return这个值."
   ]
  },
  {
   "cell_type": "markdown",
   "metadata": {},
   "source": [
    "## 定义一个函数\n",
    "\n",
    "def function_name(list of parameters):\n",
    "    \n",
    "    do something\n",
    "![](../Photo/69.png)\n",
    "- 以前使用的random 或者range 或者print.. 其实都是函数或者类"
   ]
  },
  {
   "cell_type": "code",
   "execution_count": 20,
   "metadata": {},
   "outputs": [
    {
     "name": "stdout",
     "output_type": "stream",
     "text": [
      "40 636 76\n"
     ]
    }
   ],
   "source": [
    "import random\n",
    "a=random.randint(6,666)\n",
    "b=random.randint(6,666)\n",
    "c=random.randint(6,666)\n",
    "print(a,b,c)"
   ]
  },
  {
   "cell_type": "code",
   "execution_count": null,
   "metadata": {},
   "outputs": [],
   "source": [
    "import random\n",
    "a=random.randint(6,666)\n",
    "while 1:\n",
    "    N =eval(inout('>>'))\n",
    "    if n==N:\n",
    "        print('太小了')\n",
    "        break\n",
    "    elif n<N:\n",
    "        print('太小了')\n",
    "    elif n>N:\n",
    "        print('太大了')\n",
    "        \n",
    "    "
   ]
  },
  {
   "cell_type": "code",
   "execution_count": 17,
   "metadata": {},
   "outputs": [],
   "source": [
    "def zuida(number1,number2,number3):\n",
    "    if number1>number2 and number2>number3:\n",
    "        result=number1\n",
    "    elif number2>number1 and number1>number3:\n",
    "         result=number2\n",
    "    elif number3>number2 and number2>number1:\n",
    "         result=number3\n",
    "    return result"
   ]
  },
  {
   "cell_type": "code",
   "execution_count": 19,
   "metadata": {},
   "outputs": [
    {
     "data": {
      "text/plain": [
       "3"
      ]
     },
     "execution_count": 19,
     "metadata": {},
     "output_type": "execute_result"
    }
   ],
   "source": [
    "zuida(number1=1,number2=2,number3=3)"
   ]
  },
  {
   "cell_type": "code",
   "execution_count": 1,
   "metadata": {},
   "outputs": [],
   "source": [
    "def lueluelue():\n",
    "    print('我是小仙女')\n",
    "    #定义函数   然后调用"
   ]
  },
  {
   "cell_type": "code",
   "execution_count": 2,
   "metadata": {},
   "outputs": [
    {
     "name": "stdout",
     "output_type": "stream",
     "text": [
      "我是小仙女\n"
     ]
    }
   ],
   "source": [
    "lueluelue()\n",
    "#函数名+（）调用函数"
   ]
  },
  {
   "cell_type": "code",
   "execution_count": 3,
   "metadata": {},
   "outputs": [],
   "source": [
    "#如果要改变内容需要加入参数\n",
    "def lueluelue(name):\n",
    "    print(name,'我是小萝莉')"
   ]
  },
  {
   "cell_type": "code",
   "execution_count": 4,
   "metadata": {},
   "outputs": [
    {
     "name": "stdout",
     "output_type": "stream",
     "text": [
      "jiaochenxu 我是小萝莉\n"
     ]
    }
   ],
   "source": [
    "#调用函数需要给参数\n",
    "lueluelue('jiaochenxu')"
   ]
  },
  {
   "cell_type": "code",
   "execution_count": 7,
   "metadata": {},
   "outputs": [],
   "source": [
    "def jiou(number):\n",
    "    if number%2==0:\n",
    "        print(number,'藕')\n",
    "    else:\n",
    "        print(number,'基')"
   ]
  },
  {
   "cell_type": "code",
   "execution_count": 8,
   "metadata": {},
   "outputs": [
    {
     "name": "stdout",
     "output_type": "stream",
     "text": [
      "666 藕\n"
     ]
    }
   ],
   "source": [
    "jiou(number=666)\n",
    "#参数给一个number 否则会不知道传到哪里"
   ]
  },
  {
   "cell_type": "code",
   "execution_count": 9,
   "metadata": {},
   "outputs": [],
   "source": [
    "def lueluelue(name1,name2):\n",
    "    print(name1,'你是小仙女')\n",
    "    print(name2,'你是小萝莉')"
   ]
  },
  {
   "cell_type": "code",
   "execution_count": 11,
   "metadata": {},
   "outputs": [
    {
     "name": "stdout",
     "output_type": "stream",
     "text": [
      "jiaochenxu 你是小仙女\n",
      "jiaochenxu 你是小萝莉\n"
     ]
    }
   ],
   "source": [
    "lueluelue(name1='jiaochenxu',name2='jiaochenxu')"
   ]
  },
  {
   "cell_type": "code",
   "execution_count": null,
   "metadata": {},
   "outputs": [],
   "source": [
    "def lueluelue(name1,name2='jiaochenxu'):\n",
    "    print(name1,'你是小仙女')\n",
    "    print(name2,'你是小萝莉')\n",
    "    #带默认参数的一定要放在最后面，\n",
    "    #带默认参数的 可以不用未知参数"
   ]
  },
  {
   "cell_type": "markdown",
   "metadata": {},
   "source": [
    "函数的参数如果有默认值的情况,当你调用该函数的时候:\n",
    "可以不给予参数值,那么就会走该参数的默认值\n",
    "否则的话,就走你给予的参数值."
   ]
  },
  {
   "cell_type": "markdown",
   "metadata": {},
   "source": [
    "## 调用一个函数\n",
    "- functionName()\n",
    "- \"()\" 就代表调用"
   ]
  },
  {
   "cell_type": "markdown",
   "metadata": {},
   "source": [
    "![](../Photo/70.png)"
   ]
  },
  {
   "cell_type": "markdown",
   "metadata": {},
   "source": [
    "## 带返回值和不带返回值的函数\n",
    "- return 返回的内容\n",
    "- return 返回多个值\n",
    "- 一般情况下，在多个函数协同完成一个功能的时候，那么将会有返回值"
   ]
  },
  {
   "cell_type": "markdown",
   "metadata": {},
   "source": [
    "![](../Photo/71.png)\n",
    "\n",
    "- 当然也可以自定义返回None"
   ]
  },
  {
   "cell_type": "code",
   "execution_count": 12,
   "metadata": {},
   "outputs": [],
   "source": [
    "def lueluelue():\n",
    "    print('你是小仙女')\n",
    "    return 666\n",
    "#会自动返回一个值 "
   ]
  },
  {
   "cell_type": "code",
   "execution_count": 14,
   "metadata": {},
   "outputs": [
    {
     "name": "stdout",
     "output_type": "stream",
     "text": [
      "lueluelue\n"
     ]
    }
   ],
   "source": [
    "b='lueluelue'\n",
    "print(b)"
   ]
  },
  {
   "cell_type": "code",
   "execution_count": 13,
   "metadata": {},
   "outputs": [
    {
     "name": "stdout",
     "output_type": "stream",
     "text": [
      "你是小仙女\n"
     ]
    },
    {
     "data": {
      "text/plain": [
       "666"
      ]
     },
     "execution_count": 13,
     "metadata": {},
     "output_type": "execute_result"
    }
   ],
   "source": [
    "lueluelue()"
   ]
  },
  {
   "cell_type": "markdown",
   "metadata": {},
   "source": [
    "## EP：\n",
    "![](../Photo/72.png)"
   ]
  },
  {
   "cell_type": "markdown",
   "metadata": {},
   "source": [
    "## 类型和关键字参数\n",
    "- 普通参数\n",
    "- 多个参数\n",
    "- 默认值参数\n",
    "- 不定长参数"
   ]
  },
  {
   "cell_type": "markdown",
   "metadata": {},
   "source": [
    "## 普通参数"
   ]
  },
  {
   "cell_type": "markdown",
   "metadata": {},
   "source": [
    "## 多个参数"
   ]
  },
  {
   "cell_type": "markdown",
   "metadata": {},
   "source": [
    "## 默认值参数"
   ]
  },
  {
   "cell_type": "markdown",
   "metadata": {},
   "source": [
    "## 强制命名"
   ]
  },
  {
   "cell_type": "markdown",
   "metadata": {},
   "source": [
    "## 不定长参数\n",
    "- \\*args\n",
    "> - 不定长，来多少装多少，不装也是可以的\n",
    "  - 返回的数据类型是元组\n",
    "  - args 名字是可以修改的，只是我们约定俗成的是args\n",
    "- \\**kwargs \n",
    "> - 返回的字典\n",
    "  - 输入的一定要是表达式（键值对）\n",
    "- name,\\*args,name2,\\**kwargs  使用参数名"
   ]
  },
  {
   "cell_type": "markdown",
   "metadata": {},
   "source": [
    "## 变量的作用域\n",
    "- 局部变量 local\n",
    "- 全局变量 global\n",
    "- globals 函数返回一个全局变量的字典，包括所有导入的变量\n",
    "- locals() 函数会以字典类型返回当前位置的全部局部变量。"
   ]
  },
  {
   "cell_type": "code",
   "execution_count": null,
   "metadata": {},
   "outputs": [],
   "source": [
    "a='abcks'\n",
    "for i in a:\n",
    "    print(i,type)"
   ]
  },
  {
   "cell_type": "code",
   "execution_count": 21,
   "metadata": {},
   "outputs": [],
   "source": [
    "def tongji(*args):\n",
    "    for i in args:\n",
    "        print(i,type(i))"
   ]
  },
  {
   "cell_type": "code",
   "execution_count": 22,
   "metadata": {},
   "outputs": [
    {
     "name": "stdout",
     "output_type": "stream",
     "text": [
      "1 <class 'str'>\n",
      "q <class 'str'>\n",
      "b <class 'str'>\n"
     ]
    }
   ],
   "source": [
    "tongji('1','q','b')"
   ]
  },
  {
   "cell_type": "code",
   "execution_count": 24,
   "metadata": {},
   "outputs": [],
   "source": [
    "def tongji(*args):\n",
    "    shuzi=0\n",
    "    xiaoxie=0\n",
    "    daxie=0\n",
    "    for i in args:\n",
    "        ASCIT=ord(i)\n",
    "        if 48<=ASCIT<=57:\n",
    "            shuzi+=1\n",
    "        elif 97<=ASCIT<=122:\n",
    "            xiaoxie+=1\n",
    "        elif 65<=ASCIT<=90:\n",
    "            daxie+=1\n",
    "    return shuzi,xiaoxie,daxie                "
   ]
  },
  {
   "cell_type": "code",
   "execution_count": 25,
   "metadata": {},
   "outputs": [
    {
     "data": {
      "text/plain": [
       "(0, 2, 0)"
      ]
     },
     "execution_count": 25,
     "metadata": {},
     "output_type": "execute_result"
    }
   ],
   "source": [
    "tongji('a','b')"
   ]
  },
  {
   "cell_type": "code",
   "execution_count": 36,
   "metadata": {},
   "outputs": [
    {
     "ename": "SyntaxError",
     "evalue": "'return' outside function (<ipython-input-36-7eae3d66cc19>, line 12)",
     "output_type": "error",
     "traceback": [
      "\u001b[1;36m  File \u001b[1;32m\"<ipython-input-36-7eae3d66cc19>\"\u001b[1;36m, line \u001b[1;32m12\u001b[0m\n\u001b[1;33m    return  a_,b_\u001b[0m\n\u001b[1;37m    ^\u001b[0m\n\u001b[1;31mSyntaxError\u001b[0m\u001b[1;31m:\u001b[0m 'return' outside function\n"
     ]
    }
   ],
   "source": [
    "for i in range():\n",
    "    a_=0\n",
    "    b_=0\n",
    "    if number%2==0:\n",
    "        def ou(a):\n",
    "            a=(1/2)+(1/4)+...+(1/n)\n",
    "            a_+=1\n",
    "    else:\n",
    "        def ji(b):\n",
    "            b=(1/3)+(1/6)+...+(1/n)\n",
    "            b_+=1\n",
    "    return      "
   ]
  },
  {
   "cell_type": "code",
   "execution_count": 37,
   "metadata": {},
   "outputs": [],
   "source": [
    "def sum(n):\n",
    "    res =0\n",
    "    if n%2==0:\n",
    "        for i in range(2,n+1,2):\n",
    "            res+=1/i\n",
    "    else:\n",
    "        for j in range(1,n+1,2):\n",
    "            res +=1/j\n",
    "    return res"
   ]
  },
  {
   "cell_type": "code",
   "execution_count": null,
   "metadata": {},
   "outputs": [],
   "source": []
  },
  {
   "cell_type": "code",
   "execution_count": 34,
   "metadata": {},
   "outputs": [
    {
     "data": {
      "text/plain": [
       "0.5"
      ]
     },
     "execution_count": 34,
     "metadata": {},
     "output_type": "execute_result"
    }
   ],
   "source": [
    "sum(2)"
   ]
  },
  {
   "cell_type": "code",
   "execution_count": 45,
   "metadata": {},
   "outputs": [],
   "source": [
    "#复读机相加\n",
    "def A ():\n",
    "    a=input('被加数字：')\n",
    "    n=int(input('加几次？：'))\n",
    "    res=0\n",
    "    for i in range(n):\n",
    "        res+=int(a) \n",
    "        a+=a[0]\n",
    "    print(res)\n",
    "    return res"
   ]
  },
  {
   "cell_type": "code",
   "execution_count": 46,
   "metadata": {},
   "outputs": [
    {
     "name": "stdout",
     "output_type": "stream",
     "text": [
      "被加数字：2\n",
      "加几次？：2\n",
      "24\n"
     ]
    },
    {
     "data": {
      "text/plain": [
       "24"
      ]
     },
     "execution_count": 46,
     "metadata": {},
     "output_type": "execute_result"
    }
   ],
   "source": [
    "A()"
   ]
  },
  {
   "cell_type": "code",
   "execution_count": 49,
   "metadata": {},
   "outputs": [],
   "source": [
    "def A ():\n",
    "    a=input('被加数字：')\n",
    "    n=int(input('加几次？：'))\n",
    "    res=0\n",
    "    for i in range(1,int(n)+1):\n",
    "        print(a*i)\n",
    "        res+=int(a*1) \n",
    "    return res"
   ]
  },
  {
   "cell_type": "code",
   "execution_count": 50,
   "metadata": {},
   "outputs": [
    {
     "name": "stdout",
     "output_type": "stream",
     "text": [
      "被加数字：2\n",
      "加几次？：2\n",
      "2\n",
      "22\n"
     ]
    },
    {
     "data": {
      "text/plain": [
       "4"
      ]
     },
     "execution_count": 50,
     "metadata": {},
     "output_type": "execute_result"
    }
   ],
   "source": [
    "A()"
   ]
  },
  {
   "cell_type": "code",
   "execution_count": 71,
   "metadata": {},
   "outputs": [],
   "source": [
    "def B():\n",
    "    a=int(input('被加数字：'))\n",
    "    n=int(input('加几次？：'))\n",
    "    res=0\n",
    "    for j in range(a):\n",
    "        for i in range(n):\n",
    "            res += a*10**n\n",
    "    return res"
   ]
  },
  {
   "cell_type": "code",
   "execution_count": 72,
   "metadata": {},
   "outputs": [
    {
     "name": "stdout",
     "output_type": "stream",
     "text": [
      "被加数字：2\n",
      "加几次？：2\n"
     ]
    },
    {
     "data": {
      "text/plain": [
       "800"
      ]
     },
     "execution_count": 72,
     "metadata": {},
     "output_type": "execute_result"
    }
   ],
   "source": [
    "B()"
   ]
  },
  {
   "cell_type": "code",
   "execution_count": 74,
   "metadata": {},
   "outputs": [
    {
     "name": "stdout",
     "output_type": "stream",
     "text": [
      "4\n",
      "33\n"
     ]
    }
   ],
   "source": [
    "def jie(n):\n",
    "    if n == 1:\n",
    "        return 1\n",
    "    else:\n",
    "        return n*jie(n-1)\n",
    "n = int(input())\n",
    "sum = 0\n",
    "if n < 1 or n > 20:\n",
    "    print(\"请重新输入数据\")\n",
    "else:\n",
    "    for i in range(1,n+1):\n",
    "        sum = sum + jie(i)\n",
    "    print(sum)"
   ]
  },
  {
   "cell_type": "code",
   "execution_count": 75,
   "metadata": {},
   "outputs": [
    {
     "name": "stdout",
     "output_type": "stream",
     "text": [
      "1\n",
      "2\n",
      "6\n",
      "24\n",
      "120\n",
      "720\n",
      "5040\n",
      "40320\n",
      "362880\n",
      "3628800\n",
      "39916800\n",
      "479001600\n",
      "6227020800\n",
      "87178291200\n",
      "1307674368000\n",
      "20922789888000\n",
      "355687428096000\n",
      "6402373705728000\n",
      "121645100408832000\n",
      "2432902008176640000\n"
     ]
    }
   ],
   "source": [
    "for i in range(1,21):\n",
    "    rres=1\n",
    "    for j in range(1,i+1):\n",
    "        rres *=j\n",
    "    print(rres)"
   ]
  },
  {
   "cell_type": "code",
   "execution_count": 81,
   "metadata": {},
   "outputs": [
    {
     "name": "stdout",
     "output_type": "stream",
     "text": [
      "6559\n"
     ]
    }
   ],
   "source": [
    "res=0\n",
    "for i in range(0,10):\n",
    "    for j in range(int(100*(1/2)**i)):\n",
    "        i+=1\n",
    "        res+=j\n",
    "print(res)\n",
    "#带除号就必须定义类型"
   ]
  },
  {
   "cell_type": "markdown",
   "metadata": {},
   "source": [
    "## 注意：\n",
    "- global ：在进行赋值操作的时候需要声明\n",
    "- 官方解释：This is because when you make an assignment to a variable in a scope, that variable becomes local to that scope and shadows any similarly named variable in the outer scope.\n",
    "- ![](../Photo/73.png)"
   ]
  },
  {
   "cell_type": "markdown",
   "metadata": {},
   "source": [
    "# Homework\n",
    "- 1\n",
    "![](../Photo/74.png)"
   ]
  },
  {
   "cell_type": "code",
   "execution_count": 16,
   "metadata": {},
   "outputs": [],
   "source": [
    "def wujiao():\n",
    "    a=0\n",
    "    n=0\n",
    "    for i in range (0,100):\n",
    "        res=n*(3*n-1)/2\n",
    "        a+=1\n",
    "        n+=1\n",
    "        print(res,end='  ')\n",
    "        if a%10==0:\n",
    "            print(' ')"
   ]
  },
  {
   "cell_type": "code",
   "execution_count": 17,
   "metadata": {},
   "outputs": [
    {
     "name": "stdout",
     "output_type": "stream",
     "text": [
      "0.0  1.0  5.0  12.0  22.0  35.0  51.0  70.0  92.0  117.0   \n",
      "145.0  176.0  210.0  247.0  287.0  330.0  376.0  425.0  477.0  532.0   \n",
      "590.0  651.0  715.0  782.0  852.0  925.0  1001.0  1080.0  1162.0  1247.0   \n",
      "1335.0  1426.0  1520.0  1617.0  1717.0  1820.0  1926.0  2035.0  2147.0  2262.0   \n",
      "2380.0  2501.0  2625.0  2752.0  2882.0  3015.0  3151.0  3290.0  3432.0  3577.0   \n",
      "3725.0  3876.0  4030.0  4187.0  4347.0  4510.0  4676.0  4845.0  5017.0  5192.0   \n",
      "5370.0  5551.0  5735.0  5922.0  6112.0  6305.0  6501.0  6700.0  6902.0  7107.0   \n",
      "7315.0  7526.0  7740.0  7957.0  8177.0  8400.0  8626.0  8855.0  9087.0  9322.0   \n",
      "9560.0  9801.0  10045.0  10292.0  10542.0  10795.0  11051.0  11310.0  11572.0  11837.0   \n",
      "12105.0  12376.0  12650.0  12927.0  13207.0  13490.0  13776.0  14065.0  14357.0  14652.0   \n"
     ]
    }
   ],
   "source": [
    "wujiao()"
   ]
  },
  {
   "cell_type": "markdown",
   "metadata": {},
   "source": [
    "- 2 \n",
    "![](../Photo/75.png)"
   ]
  },
  {
   "cell_type": "code",
   "execution_count": 109,
   "metadata": {},
   "outputs": [],
   "source": [
    "def sum_(*he):\n",
    "    print(he)\n",
    "    h=0\n",
    "    for n in he:\n",
    "        h=n+h\n",
    "    print(h)\n",
    "    return h"
   ]
  },
  {
   "cell_type": "code",
   "execution_count": 110,
   "metadata": {},
   "outputs": [
    {
     "name": "stdout",
     "output_type": "stream",
     "text": [
      "(2, 3, 4)\n",
      "9\n"
     ]
    },
    {
     "data": {
      "text/plain": [
       "9"
      ]
     },
     "execution_count": 110,
     "metadata": {},
     "output_type": "execute_result"
    }
   ],
   "source": [
    "sum_(2,3,4)"
   ]
  },
  {
   "cell_type": "markdown",
   "metadata": {},
   "source": [
    "- 3\n",
    "![](../Photo/76.png)"
   ]
  },
  {
   "cell_type": "code",
   "execution_count": 117,
   "metadata": {},
   "outputs": [],
   "source": [
    "def max_():\n",
    "    num1 = int(input('请输入第一个数：'))\n",
    "    num2 = int(input('请输入第二个数：'))\n",
    "    num3 = int(input('请输入第三个数：'))\n",
    "    if num1 >= num2:\n",
    "        if num1 >= num3:\n",
    "            if num2 >= num3:\n",
    "                print(num3,num2,num1)\n",
    "            else:\n",
    "                print(num2,num3,num1)\n",
    "        else:\n",
    "            print(num2,num1,num3)\n",
    "    else:\n",
    "        if num1 >= num3:\n",
    "            print(num3,num1,num2)\n",
    "        elif num2 >= num3:\n",
    "            print(num1,num3,num2)\n",
    "        else:\n",
    "            print(num1,num2,num3)\n",
    "        print(max_)\n",
    "    return max_             "
   ]
  },
  {
   "cell_type": "code",
   "execution_count": 118,
   "metadata": {},
   "outputs": [
    {
     "name": "stdout",
     "output_type": "stream",
     "text": [
      "请输入第一个数：2\n",
      "请输入第二个数：4\n",
      "请输入第三个数：3\n",
      "2 3 4\n",
      "<function max_ at 0x000001B07C7D1AE8>\n"
     ]
    },
    {
     "data": {
      "text/plain": [
       "<function __main__.max_()>"
      ]
     },
     "execution_count": 118,
     "metadata": {},
     "output_type": "execute_result"
    }
   ],
   "source": [
    "max_()"
   ]
  },
  {
   "cell_type": "markdown",
   "metadata": {},
   "source": [
    "- 4\n",
    "![](../Photo/77.png)"
   ]
  },
  {
   "cell_type": "code",
   "execution_count": 33,
   "metadata": {},
   "outputs": [],
   "source": [
    "\n",
    "def B():\n",
    "    a=int(input('投资额'))\n",
    "    #a=int(a)\n",
    "    n=int(input('年利率：'))\n",
    "    #n=int(n)\n",
    "    year=0\n",
    "    for j in range (0,30):\n",
    "        if year<=30:\n",
    "            res=a*n*year\n",
    "            year+=1\n",
    "        else:\n",
    "            print()\n",
    "    return res"
   ]
  },
  {
   "cell_type": "code",
   "execution_count": 34,
   "metadata": {},
   "outputs": [
    {
     "name": "stdout",
     "output_type": "stream",
     "text": [
      "投资额1000\n",
      "年利率：9\n"
     ]
    },
    {
     "data": {
      "text/plain": [
       "261000"
      ]
     },
     "execution_count": 34,
     "metadata": {},
     "output_type": "execute_result"
    }
   ],
   "source": [
    "B()"
   ]
  },
  {
   "cell_type": "markdown",
   "metadata": {},
   "source": [
    "- 5\n",
    "![](../Photo/78.png)"
   ]
  },
  {
   "cell_type": "code",
   "execution_count": 71,
   "metadata": {},
   "outputs": [],
   "source": [
    "def chars(a,b,c):\n",
    "    x=0\n",
    "    for i in range(a,b):\n",
    "        x+=1\n",
    "        print(chr(i),end='  ')\n",
    "        if x%10==0:\n",
    "            print('   ')"
   ]
  },
  {
   "cell_type": "code",
   "execution_count": 73,
   "metadata": {},
   "outputs": [
    {
     "name": "stdout",
     "output_type": "stream",
     "text": [
      "<  =  >  ?  @  A  B  C  D  E     \n",
      "F  G  H  I  J  K  L  M  N  O     \n",
      "P  Q  R  S  "
     ]
    }
   ],
   "source": [
    "chars(60,84,10)"
   ]
  },
  {
   "cell_type": "markdown",
   "metadata": {},
   "source": [
    "- 6\n",
    "![](../Photo/79.png)"
   ]
  },
  {
   "cell_type": "code",
   "execution_count": 76,
   "metadata": {},
   "outputs": [],
   "source": [
    "def year():\n",
    "    a=0\n",
    "    n=0\n",
    "    for i in range (2010,2020):\n",
    "        \n",
    "        a+=1\n",
    "        n+=1\n",
    "        print(res,end='  ')\n",
    "        if a%10==0:\n",
    "            print(' ')"
   ]
  },
  {
   "cell_type": "code",
   "execution_count": 77,
   "metadata": {},
   "outputs": [
    {
     "name": "stdout",
     "output_type": "stream",
     "text": [
      "0  365  730  1095  1460  1825  2190  2555  2920  3285   \n"
     ]
    }
   ],
   "source": [
    "year()"
   ]
  },
  {
   "cell_type": "markdown",
   "metadata": {},
   "source": [
    "- 7\n",
    "![](../Photo/80.png)"
   ]
  },
  {
   "cell_type": "code",
   "execution_count": 85,
   "metadata": {},
   "outputs": [
    {
     "ename": "IndentationError",
     "evalue": "unindent does not match any outer indentation level (<tokenize>, line 19)",
     "output_type": "error",
     "traceback": [
      "\u001b[1;36m  File \u001b[1;32m\"<tokenize>\"\u001b[1;36m, line \u001b[1;32m19\u001b[0m\n\u001b[1;33m    class Getlen:\u001b[0m\n\u001b[1;37m    ^\u001b[0m\n\u001b[1;31mIndentationError\u001b[0m\u001b[1;31m:\u001b[0m unindent does not match any outer indentation level\n"
     ]
    }
   ],
   "source": []
  },
  {
   "cell_type": "code",
   "execution_count": 86,
   "metadata": {},
   "outputs": [
    {
     "name": "stdout",
     "output_type": "stream",
     "text": [
      "两点间的距离为： 1.7320508075688772\n"
     ]
    }
   ],
   "source": [
    "\n",
    "import math\n",
    "class Point:\n",
    "    x = 0\n",
    "    y = 0\n",
    "    z = 0\n",
    "    def __init__(self, x, y, z):\n",
    "        self.x = x\n",
    "        self.y = y\n",
    "        self.z = z\n",
    " \n",
    "    def getx(self):\n",
    "        return self.x\n",
    " \n",
    "    def gety(self):\n",
    "        return self.y\n",
    " \n",
    "    def getz(self):\n",
    "        return self.z\n",
    "class Getlen:\n",
    "    def __init__(self, p1, p2):\n",
    "        self.x = p1.getx() - p2.getx()\n",
    "        self.y = p1.gety() - p2.gety()\n",
    "        self.z = p1.getz() - p2.getz()\n",
    "        self.len = math.sqrt((self.x)**2 + (self.y)**2 + (self.z)**2)\n",
    " \n",
    "    def getlen(self):\n",
    "        print(\"两点间的距离为：\" , self.len) \n",
    "p1 = Point(0,0,0)\n",
    "p2 = Point(1,1,1)\n",
    "g = Getlen(p1,p2)\n",
    "g.getlen()"
   ]
  },
  {
   "cell_type": "markdown",
   "metadata": {},
   "source": [
    "- 8\n",
    "![](../Photo/81.png)"
   ]
  },
  {
   "cell_type": "code",
   "execution_count": 88,
   "metadata": {},
   "outputs": [
    {
     "name": "stdout",
     "output_type": "stream",
     "text": [
      "找出数7\n",
      "[31, 127, 511, 2047, 8191, 32767, 131071]\n"
     ]
    }
   ],
   "source": [
    "def meisen(n):\n",
    "    if n ==1:\n",
    "        return False\n",
    "    else:\n",
    "        for i in range(2,int(n**0.5)+1):\n",
    "            if n%i==0 and n!=2:\n",
    "                return False\n",
    "            return True\n",
    "n=eval(input('找出数'))\n",
    "count = 0\n",
    "m=[]\n",
    "p=2\n",
    "while True:\n",
    "    if meisen(p):\n",
    "        M=2**p-1\n",
    "        if meisen(M):\n",
    "            m.append(M)\n",
    "            count+=1\n",
    "            if count==n:\n",
    "                break\n",
    "    p+=1\n",
    "print(m)"
   ]
  },
  {
   "cell_type": "markdown",
   "metadata": {},
   "source": [
    "- 9\n",
    "![](../Photo/82.png)\n",
    "![](../Photo/83.png)"
   ]
  },
  {
   "cell_type": "code",
   "execution_count": 93,
   "metadata": {},
   "outputs": [
    {
     "name": "stdout",
     "output_type": "stream",
     "text": [
      "time.struct_time(tm_year=2012, tm_mon=7, tm_mday=17, tm_hour=8, tm_min=4, tm_sec=16, tm_wday=1, tm_yday=199, tm_isdst=0)\n"
     ]
    }
   ],
   "source": [
    "import time,datetime\n",
    "timeArray = time.localtime(1342483456)#1970秒数\n",
    "print(timeArray)\n",
    "otherStyleTime = time.strftime(\"%Y-%m-%d %H:%M:%S\", timeArray)\n",
    "datetime1=datetime.datetime.strptime(otherStyleTime, \"%Y-%m-%d %H:%M:%S\")"
   ]
  },
  {
   "cell_type": "markdown",
   "metadata": {},
   "source": [
    "- 10\n",
    "![](../Photo/84.png)"
   ]
  },
  {
   "cell_type": "code",
   "execution_count": null,
   "metadata": {},
   "outputs": [],
   "source": []
  },
  {
   "cell_type": "markdown",
   "metadata": {},
   "source": [
    "- 11 \n",
    "### 去网上寻找如何用Python代码发送邮件"
   ]
  }
 ],
 "metadata": {
  "kernelspec": {
   "display_name": "Python 3",
   "language": "python",
   "name": "python3"
  },
  "language_info": {
   "codemirror_mode": {
    "name": "ipython",
    "version": 3
   },
   "file_extension": ".py",
   "mimetype": "text/x-python",
   "name": "python",
   "nbconvert_exporter": "python",
   "pygments_lexer": "ipython3",
   "version": "3.7.3"
  }
 },
 "nbformat": 4,
 "nbformat_minor": 2
}
