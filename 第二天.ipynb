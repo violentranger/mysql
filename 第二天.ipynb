{
 "cells": [
  {
   "cell_type": "code",
   "execution_count": 1,
   "metadata": {},
   "outputs": [
    {
     "name": "stdout",
     "output_type": "stream",
     "text": [
      "200\n"
     ]
    }
   ],
   "source": [
    "eval\n",
    "#将表达式改成运行模式\n",
    "a=1\n",
    "b=2\n",
    "#c=a+b\n",
    "c=eval('a+b')#将字符串改成表达式\n",
    "d=eval('100+100')\n",
    "print(d)\n"
   ]
  },
  {
   "cell_type": "code",
   "execution_count": 2,
   "metadata": {},
   "outputs": [
    {
     "name": "stdout",
     "output_type": "stream",
     "text": [
      "请输入半径100\n",
      "面积为: 31400.0\n"
     ]
    }
   ],
   "source": [
    "#如何计算面积\n",
    "radius = eval(input(\"请输入半径\"))\n",
    "#input半径——————100\n",
    "area= radius * radius * 3.14\n",
    "print('面积为:',area)"
   ]
  },
  {
   "cell_type": "code",
   "execution_count": 4,
   "metadata": {},
   "outputs": [
    {
     "name": "stdout",
     "output_type": "stream",
     "text": [
      "请输x10\n",
      "输入表达式3.1*x**2+2*x+100\n",
      "430.0\n"
     ]
    }
   ],
   "source": [
    "#如何用eval进行运算\n",
    "x = eval(input(\"请输x\"))\n",
    "res=eval(input('输入表达式'))\n",
    "print(res)"
   ]
  },
  {
   "cell_type": "code",
   "execution_count": 8,
   "metadata": {},
   "outputs": [
    {
     "name": "stdout",
     "output_type": "stream",
     "text": [
      "请输入温度43\n",
      "43 摄氏温度 是 109.4 华氏温度\n"
     ]
    }
   ],
   "source": [
    "##作业1:将摄氏温度转化为华氏温度\n",
    "celsius=input(\"请输入温度\")\n",
    "celsius=int(celsius)\n",
    "fahrenheit=(9/5)*celsius+32\n",
    "fahrenheit=float(fahrenheit)\n",
    "print(celsius,'摄氏温度','是',fahrenheit,'华氏温度')\n"
   ]
  },
  {
   "cell_type": "code",
   "execution_count": 10,
   "metadata": {},
   "outputs": [
    {
     "name": "stdout",
     "output_type": "stream",
     "text": [
      "请输入高12\n",
      "请输入半径5.5\n",
      "the area is 94.985 the tiji is 1139.82\n"
     ]
    }
   ],
   "source": [
    "#作业2计算圆柱体的体积\n",
    "gao = input(\"请输入高\")\n",
    "banjing = input(\"请输入半径\")\n",
    "gao  = float(gao)\n",
    "banjing = float(banjing)\n",
    "area = banjing * banjing * 3.14\n",
    "tiji = area*gao\n",
    "print('the','area','is',area,'the','tiji','is',tiji)"
   ]
  },
  {
   "cell_type": "code",
   "execution_count": 11,
   "metadata": {},
   "outputs": [
    {
     "name": "stdout",
     "output_type": "stream",
     "text": [
      "输入英尺16.5\n",
      "5.0325\n"
     ]
    }
   ],
   "source": [
    "#作业3将英尺转化为米\n",
    "x=eval(input(\"输入英尺\"))\n",
    "m=x*0.305\n",
    "print(m)"
   ]
  },
  {
   "cell_type": "code",
   "execution_count": 12,
   "metadata": {},
   "outputs": [
    {
     "name": "stdout",
     "output_type": "stream",
     "text": [
      "请输入水量55.5\n",
      "请输入结果温度10.5\n",
      "请输入初始温度3.5\n",
      "1625484.0\n"
     ]
    }
   ],
   "source": [
    "#z作业4 计算能量\n",
    "x=eval(input(\"请输入水量\"))\n",
    "F=eval(input(\"请输入结果温度\"))\n",
    "I=eval(input(\"请输入初始温度\"))\n",
    "Q=x*(F-I)*4184\n",
    "print(Q)"
   ]
  },
  {
   "cell_type": "code",
   "execution_count": 13,
   "metadata": {},
   "outputs": [
    {
     "name": "stdout",
     "output_type": "stream",
     "text": [
      "请输入差额1000\n",
      "请输入年利率3.5\n",
      "下月要付利息 2.916666666666667\n"
     ]
    }
   ],
   "source": [
    "#作业5 计算利息\n",
    "chae=eval(input(\"请输入差额\"))\n",
    "nian=eval(input(\"请输入年利率\"))\n",
    "lixi=chae*(nian/1200)\n",
    "print(\"下月要付利息\",lixi)"
   ]
  },
  {
   "cell_type": "code",
   "execution_count": 15,
   "metadata": {},
   "outputs": [
    {
     "name": "stdout",
     "output_type": "stream",
     "text": [
      "请输入初速度5.5\n",
      "请输入末速度50.9\n",
      "请输入时间4.5\n",
      "10.088888888888889\n"
     ]
    }
   ],
   "source": [
    "#作业6 物理加速度\n",
    "start=eval(input(\"请输入初速度\"))\n",
    "end=eval(input(\"请输入末速度\"))\n",
    "t=eval(input(\"请输入时间\"))\n",
    "a=(end-start)/t\n",
    "print(a)"
   ]
  },
  {
   "cell_type": "code",
   "execution_count": null,
   "metadata": {},
   "outputs": [],
   "source": []
  }
 ],
 "metadata": {
  "kernelspec": {
   "display_name": "Python 3",
   "language": "python",
   "name": "python3"
  },
  "language_info": {
   "codemirror_mode": {
    "name": "ipython",
    "version": 3
   },
   "file_extension": ".py",
   "mimetype": "text/x-python",
   "name": "python",
   "nbconvert_exporter": "python",
   "pygments_lexer": "ipython3",
   "version": "3.7.3"
  }
 },
 "nbformat": 4,
 "nbformat_minor": 2
}
