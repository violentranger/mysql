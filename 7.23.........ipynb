{
 "cells": [
  {
   "cell_type": "markdown",
   "metadata": {},
   "source": [
    "# 对象和类\n",
    "- 一个学生，一张桌子，一个圆都是对象\n",
    "- 对象是类的一个实例，你可以创建多个对象，创建类的一个实例过程被称为实例化，\n",
    "- 在Python中对象就是实例，而实例就是对象"
   ]
  },
  {
   "cell_type": "markdown",
   "metadata": {},
   "source": [
    "## 定义类\n",
    "class ClassName:\n",
    "\n",
    "    do something\n",
    "    \n",
    "- class 类的表示与def 一样\n",
    "- 类名最好使用驼峰式\n",
    "- 在Python2中类是需要继承基类object的，在Python中默认继承，可写可不写\n",
    "- 可以将普通代码理解为皮肤，而函数可以理解为内衣，那么类可以理解为外套"
   ]
  },
  {
   "cell_type": "markdown",
   "metadata": {},
   "source": [
    "## 定义一个不含初始化__init__的简单类\n",
    "class ClassName:\n",
    "\n",
    "    joker = “Home”\n",
    "    \n",
    "    def func():\n",
    "        print('Worker')\n",
    "    \n",
    "- 尽量少使用"
   ]
  },
  {
   "cell_type": "markdown",
   "metadata": {},
   "source": [
    "\n",
    "\n",
    "## 定义一个标准类\n",
    "- __init__ 代表初始化，可以初始化任何动作\n",
    "- 此时类调用要使用()，其中（）可以理解为开始初始化\n",
    "- 初始化内的元素，类中其他的函数可以共享\n",
    "![](../Photo/85.png)"
   ]
  },
  {
   "cell_type": "code",
   "execution_count": 7,
   "metadata": {},
   "outputs": [],
   "source": [
    "#类可以不用括号\n",
    "class Jokker:\n",
    "#类一定要初始化 使用self代表初始化自身  （）代表直接走初始化函数\n",
    "#类里面所有的函数中的第一个变量不再是参数，而是印记\n",
    "    def __init___(self):\n",
    "        print('我要起飞了')\n",
    "    def print_(self,name):\n",
    "        print('我好困',name)"
   ]
  },
  {
   "cell_type": "code",
   "execution_count": 10,
   "metadata": {},
   "outputs": [],
   "source": [
    "huwang = Jokker()     # （）代表直接走初始化函数"
   ]
  },
  {
   "cell_type": "code",
   "execution_count": 11,
   "metadata": {},
   "outputs": [
    {
     "name": "stdout",
     "output_type": "stream",
     "text": [
      "我好困 huwang\n"
     ]
    }
   ],
   "source": [
    "huwang.print_(name='huwang')"
   ]
  },
  {
   "cell_type": "code",
   "execution_count": 16,
   "metadata": {},
   "outputs": [],
   "source": [
    "#在类中，如果有参数需要多次使用那么可以设置为共享参数\n",
    "class joker:\n",
    "    def __init__(self,num1,num2):\n",
    "        print('我初始化了')\n",
    "        self.num1=num1\n",
    "        self.num2=num2\n",
    "    def SUM(self):\n",
    "        return self.num1 + self.num2\n",
    "    def cheng(self):\n",
    "        return self.num1*self.num2"
   ]
  },
  {
   "cell_type": "code",
   "execution_count": 17,
   "metadata": {},
   "outputs": [
    {
     "name": "stdout",
     "output_type": "stream",
     "text": [
      "我初始化了\n"
     ]
    }
   ],
   "source": [
    "huwang = joker(num1=1,num2=2)"
   ]
  },
  {
   "cell_type": "code",
   "execution_count": 23,
   "metadata": {},
   "outputs": [
    {
     "data": {
      "text/plain": [
       "3"
      ]
     },
     "execution_count": 23,
     "metadata": {},
     "output_type": "execute_result"
    }
   ],
   "source": [
    "huwang.SUM()"
   ]
  },
  {
   "cell_type": "code",
   "execution_count": 32,
   "metadata": {},
   "outputs": [],
   "source": [
    "#输入一个数判断是奇数偶数，输入一个年份判断是平年还是闰年\n",
    "class panduan:\n",
    "    def __init__(self,num1,num2):\n",
    "        print('我初始化了')\n",
    "        self.num1=num1\n",
    "        self.num2=num2\n",
    "    def ji(self):\n",
    "        if self.num1%2==0:\n",
    "            return self.num1\n",
    "        else:\n",
    "            print('ou')\n",
    "    def run(self):\n",
    "        if self.num2%400==0:\n",
    "            return self.num2\n",
    "        else:\n",
    "            print('ping')\n",
    "#如果继续使用值得话用return  否则可以用print"
   ]
  },
  {
   "cell_type": "code",
   "execution_count": 33,
   "metadata": {},
   "outputs": [
    {
     "name": "stdout",
     "output_type": "stream",
     "text": [
      "我初始化了\n"
     ]
    }
   ],
   "source": [
    "shu=panduan(num1=6,num2=2008)"
   ]
  },
  {
   "cell_type": "code",
   "execution_count": 34,
   "metadata": {},
   "outputs": [
    {
     "data": {
      "text/plain": [
       "6"
      ]
     },
     "execution_count": 34,
     "metadata": {},
     "output_type": "execute_result"
    }
   ],
   "source": [
    "shu.ji()"
   ]
  },
  {
   "cell_type": "code",
   "execution_count": 35,
   "metadata": {},
   "outputs": [
    {
     "name": "stdout",
     "output_type": "stream",
     "text": [
      "ping\n"
     ]
    }
   ],
   "source": [
    "shu.run()"
   ]
  },
  {
   "cell_type": "markdown",
   "metadata": {},
   "source": [
    "- Circle 和 className_ 的第一个区别有 __init__ 这个函数\n",
    "- 。。。。   第二个区别，类中的每一个函数都有self的这个“参数”"
   ]
  },
  {
   "cell_type": "markdown",
   "metadata": {},
   "source": [
    "## 何为self？\n",
    "- self 是指向对象本身的参数\n",
    "- self 只是一个命名规则，其实可以改变的，但是我们约定俗成的是self，也便于理解\n",
    "- 使用了self就可以访问类中定义的成员\n",
    "<img src=\"../Photo/86.png\"></img>"
   ]
  },
  {
   "cell_type": "markdown",
   "metadata": {},
   "source": [
    "## 使用类 Cirlcle"
   ]
  },
  {
   "cell_type": "markdown",
   "metadata": {},
   "source": [
    "## 类的传参\n",
    "- class ClassName:\n",
    "    \n",
    "        def __init__(self, para1,para2...)：\n",
    "            \n",
    "            self.para1 = para1\n",
    "            \n",
    "            self.para2 = para2"
   ]
  },
  {
   "cell_type": "markdown",
   "metadata": {},
   "source": [
    "## EP:\n",
    "- A：定义一个类，类中含有两个功能：\n",
    "    - 1、产生3个随机数，获取最大值\n",
    "    - 2、产生3个随机数，获取最小值\n",
    "- B：定义一个类，（类中函数的嵌套使用）\n",
    "    - 1、第一个函数的功能为：输入一个数字\n",
    "    - 2、第二个函数的功能为：使用第一个函数中得到的数字进行平方处理\n",
    "    - 3、第三个函数的功能为：得到平方处理后的数字 - 原来输入的数字，并打印结果"
   ]
  },
  {
   "cell_type": "code",
   "execution_count": 11,
   "metadata": {},
   "outputs": [],
   "source": [
    "class panduan:\n",
    "    def __init__(self,num1,num2,num3):\n",
    "        print('我初始化了')\n",
    "        self.num1=num1\n",
    "        self.num2=num2\n",
    "        self.num3=num3\n",
    "    def max_(self):\n",
    "        if self.num1>self.num2 and self.num2>self.num3:\n",
    "            return self.num1\n",
    "        elif self.num2>self.num3 and self.num3>self.num1:\n",
    "            return self.num2\n",
    "        elif self.num3>self.num1 and self.num1>self.num2:\n",
    "            return self.num3   \n",
    "    def min_(self):\n",
    "        if self.num1<self.num2 and self.num2<self.num3:\n",
    "            return self.num1\n",
    "        elif self.num2<self.num3 and self.num3<self.num1:\n",
    "            return self.num2\n",
    "        elif self.num3<self.num1 and self.num2<self.num1:\n",
    "            return self.num3 \n"
   ]
  },
  {
   "cell_type": "code",
   "execution_count": 12,
   "metadata": {},
   "outputs": [
    {
     "name": "stdout",
     "output_type": "stream",
     "text": [
      "我初始化了\n"
     ]
    }
   ],
   "source": [
    "daxiao=panduan(num1=6,num2=4,num3=2)"
   ]
  },
  {
   "cell_type": "code",
   "execution_count": 13,
   "metadata": {},
   "outputs": [
    {
     "data": {
      "text/plain": [
       "6"
      ]
     },
     "execution_count": 13,
     "metadata": {},
     "output_type": "execute_result"
    }
   ],
   "source": [
    "daxiao.max_()"
   ]
  },
  {
   "cell_type": "code",
   "execution_count": 14,
   "metadata": {},
   "outputs": [
    {
     "data": {
      "text/plain": [
       "2"
      ]
     },
     "execution_count": 14,
     "metadata": {},
     "output_type": "execute_result"
    }
   ],
   "source": [
    "daxiao.min_()"
   ]
  },
  {
   "cell_type": "code",
   "execution_count": 4,
   "metadata": {},
   "outputs": [],
   "source": [
    "#B嵌套\n",
    "class B:\n",
    "    def __init__(self):\n",
    "        pass\n",
    "    def shu(self):\n",
    "        number=int(input('请输入一个数字'))\n",
    "        return number \n",
    "    def pingfang(self):\n",
    "        number=self.shu()\n",
    "        b=number*number\n",
    "        return b,number\n",
    "    def zuihou(self):\n",
    "        b=self.pingfang()\n",
    "        c=b-number\n",
    "        print(c)        "
   ]
  },
  {
   "cell_type": "code",
   "execution_count": 5,
   "metadata": {},
   "outputs": [],
   "source": [
    "hanshu=B()"
   ]
  },
  {
   "cell_type": "code",
   "execution_count": 6,
   "metadata": {},
   "outputs": [
    {
     "name": "stdout",
     "output_type": "stream",
     "text": [
      "请输入一个数字2\n"
     ]
    },
    {
     "data": {
      "text/plain": [
       "2"
      ]
     },
     "execution_count": 6,
     "metadata": {},
     "output_type": "execute_result"
    }
   ],
   "source": [
    "hanshu.shu()"
   ]
  },
  {
   "cell_type": "code",
   "execution_count": 7,
   "metadata": {},
   "outputs": [
    {
     "name": "stdout",
     "output_type": "stream",
     "text": [
      "请输入一个数字2\n"
     ]
    },
    {
     "data": {
      "text/plain": [
       "(4, 2)"
      ]
     },
     "execution_count": 7,
     "metadata": {},
     "output_type": "execute_result"
    }
   ],
   "source": [
    "hanshu.pingfang()"
   ]
  },
  {
   "cell_type": "code",
   "execution_count": 11,
   "metadata": {},
   "outputs": [],
   "source": [
    "#登录qq 输入账号密码\n",
    "class QQ:\n",
    "    def __init__ (self):\n",
    "        self.account='123'\n",
    "        self.password='123'\n",
    "    def zhanghao(self):\n",
    "        self.num1=eval(input('请输入账号'))\n",
    "    def mima(self):\n",
    "        self.num2=eval(input('请输入密码'))\n",
    "    def panduan(self):\n",
    "        if self.num1==self.account and self.num2==self.password:\n",
    "            print('正确')\n",
    "        else:\n",
    "            self.yanzheng()\n",
    "    def yanzheng(self):\n",
    "        yanzheng_=123\n",
    "        print('验证码是',yanzheng_)\n",
    "        while 1:\n",
    "            user_yanzheng=eval(inout('请输入验证码'))\n",
    "            if user_yanzheng==yanzheng_:\n",
    "                print('验证码错误')\n",
    "                break\n",
    "    def start(self):\n",
    "        self.zhanghao()\n",
    "        self.password()\n",
    "        self.panduan()\n",
    "   #解释文档怎么写啊啊啊啊啊啊啊啊啊     "
   ]
  },
  {
   "cell_type": "code",
   "execution_count": 9,
   "metadata": {},
   "outputs": [],
   "source": [
    "a=QQ()"
   ]
  },
  {
   "cell_type": "markdown",
   "metadata": {},
   "source": [
    "## 类的继承\n",
    "- 类的单继承\n",
    "- 类的多继承\n",
    "- 继承标识\n",
    ">  class SonClass(FatherClass):\n",
    "            \n",
    "            def __init__(self):\n",
    "            \n",
    "                FatherClass.__init__(self)"
   ]
  },
  {
   "cell_type": "code",
   "execution_count": null,
   "metadata": {},
   "outputs": [],
   "source": [
    "#继承谁就写谁，要告诉\n",
    "#私有变量不能被继承也不能在外部被调用"
   ]
  },
  {
   "cell_type": "markdown",
   "metadata": {},
   "source": [
    "## 私有数据域(私有变量，或者私有函数)\n",
    "- 在Python中 变量名或者函数名使用双下划线代表私有  \\__Joker,   def \\__Joker():\n",
    "- 私有数据域不可继承\n",
    "- 私有数据域强制继承   \\__dir__()"
   ]
  },
  {
   "cell_type": "markdown",
   "metadata": {},
   "source": [
    "![](../Photo/87.png)"
   ]
  },
  {
   "cell_type": "markdown",
   "metadata": {},
   "source": [
    "## EP:\n",
    "![](../Photo/88.png)\n",
    "![](../Photo/89.png)\n",
    "![](../Photo/90.png)\n"
   ]
  },
  {
   "cell_type": "markdown",
   "metadata": {},
   "source": [
    "## 类的其他\n",
    "- 类的封装\n",
    "    - 实际上就是将一类功能放在一起，方便未来进行管理\n",
    "- 类的继承（上面已经讲过）\n",
    "- 类的多态\n",
    "    - 包括装饰器：将放在以后处理高级类中教\n",
    "    - 装饰器的好处：当许多类中的函数需要使用同一个功能的时候，那么使用装饰器就会方便许多\n",
    "    - 装饰器是有固定的写法\n",
    "        - 其包括普通装饰器与带参装饰器"
   ]
  },
  {
   "cell_type": "code",
   "execution_count": null,
   "metadata": {},
   "outputs": [],
   "source": [
    "#静态调用"
   ]
  },
  {
   "cell_type": "markdown",
   "metadata": {},
   "source": [
    "# Homewor\n",
    "## UML类图可以不用画\n",
    "## UML 实际上就是一个思维图\n",
    "- 1\n",
    "![](../Photo/91.png)"
   ]
  },
  {
   "cell_type": "code",
   "execution_count": 29,
   "metadata": {},
   "outputs": [],
   "source": [
    "class rectangle:\n",
    "    def __init__(self,num1,num2):\n",
    "        print('我初始化了')\n",
    "        self.num1=num1\n",
    "        self.num2=num2\n",
    "    def s(self):\n",
    "        self.s_=self.num1*self.num2\n",
    "        print(self.s_)\n",
    "    def c(self):\n",
    "        self.c_=2*(self.num1+self.num2)\n",
    "        print(self.c_)"
   ]
  },
  {
   "cell_type": "code",
   "execution_count": 30,
   "metadata": {},
   "outputs": [
    {
     "name": "stdout",
     "output_type": "stream",
     "text": [
      "我初始化了\n"
     ]
    }
   ],
   "source": [
    "shu=rectangle(num1=1,num2=2)"
   ]
  },
  {
   "cell_type": "code",
   "execution_count": 31,
   "metadata": {},
   "outputs": [
    {
     "name": "stdout",
     "output_type": "stream",
     "text": [
      "2\n"
     ]
    }
   ],
   "source": [
    "shu.s()"
   ]
  },
  {
   "cell_type": "code",
   "execution_count": 32,
   "metadata": {},
   "outputs": [
    {
     "name": "stdout",
     "output_type": "stream",
     "text": [
      "6\n"
     ]
    }
   ],
   "source": [
    "shu.c()"
   ]
  },
  {
   "cell_type": "code",
   "execution_count": 35,
   "metadata": {},
   "outputs": [],
   "source": [
    "class rectangle:\n",
    "    def __init__(self,num1,num2):\n",
    "        print('我初始化了')\n",
    "        self.num1=num1\n",
    "        self.num2=num2\n",
    "    def s(self):\n",
    "        self.s_=self.num1*self.num2\n",
    "        print(self.s_)\n",
    "    def c(self):\n",
    "        self.c_=2*(self.num1+self.num2)\n",
    "        print(self.c_)"
   ]
  },
  {
   "cell_type": "code",
   "execution_count": 36,
   "metadata": {},
   "outputs": [
    {
     "name": "stdout",
     "output_type": "stream",
     "text": [
      "我初始化了\n"
     ]
    }
   ],
   "source": [
    "shu=rectangle(num1=3.5,num2=35.7)"
   ]
  },
  {
   "cell_type": "code",
   "execution_count": 37,
   "metadata": {},
   "outputs": [
    {
     "name": "stdout",
     "output_type": "stream",
     "text": [
      "124.95000000000002\n"
     ]
    }
   ],
   "source": [
    "shu.s()"
   ]
  },
  {
   "cell_type": "code",
   "execution_count": 38,
   "metadata": {},
   "outputs": [
    {
     "name": "stdout",
     "output_type": "stream",
     "text": [
      "78.4\n"
     ]
    }
   ],
   "source": [
    "shu.c()"
   ]
  },
  {
   "cell_type": "markdown",
   "metadata": {},
   "source": [
    "- 2\n",
    "![](../Photo/92.png)"
   ]
  },
  {
   "cell_type": "code",
   "execution_count": 226,
   "metadata": {},
   "outputs": [],
   "source": [
    "# 账户名  id\n",
    "# 账户名  balance  私有浮点数据域\n",
    "#储存当前利率  annuallnteresRate   私有浮点域\n",
    "#\n",
    "class Account:\n",
    "    def __init__(self,id_,zhanghu,lilu):\n",
    "        print('我初始化啦')\n",
    "        self.id_=id_\n",
    "        self.zhanghu=zhanghu\n",
    "        self.liulu=lilu\n",
    "    def withdraw(self):\n",
    "        if self.id_==1122:\n",
    "            qu=2500\n",
    "            return qu\n",
    "    def deposit(self):\n",
    "        self.lilu=self.withdraw()\n",
    "        self.id_=self.withdraw()\n",
    "        yue=1\n",
    "        for i in range(yue):\n",
    "            if self.id_==1122:\n",
    "                cun=3000\n",
    "                yuelilu=self.lilu*yue\n",
    "                yuelixi= cun*self.lilu*yue+cun\n",
    "                yue+=1\n",
    "            print(self.id_,yue,yuelilu,yuelixi)"
   ]
  },
  {
   "cell_type": "code",
   "execution_count": 227,
   "metadata": {},
   "outputs": [
    {
     "name": "stdout",
     "output_type": "stream",
     "text": [
      "我初始化啦\n"
     ]
    }
   ],
   "source": [
    "jieguo = Account(id_=1122,zhanghu=20000,lilu=0.045,)"
   ]
  },
  {
   "cell_type": "code",
   "execution_count": 228,
   "metadata": {},
   "outputs": [
    {
     "data": {
      "text/plain": [
       "2500"
      ]
     },
     "execution_count": 228,
     "metadata": {},
     "output_type": "execute_result"
    }
   ],
   "source": [
    "jieguo.withdraw()"
   ]
  },
  {
   "cell_type": "code",
   "execution_count": 229,
   "metadata": {},
   "outputs": [
    {
     "ename": "UnboundLocalError",
     "evalue": "local variable 'yuelilu' referenced before assignment",
     "output_type": "error",
     "traceback": [
      "\u001b[1;31m---------------------------------------------------------------------------\u001b[0m",
      "\u001b[1;31mUnboundLocalError\u001b[0m                         Traceback (most recent call last)",
      "\u001b[1;32m<ipython-input-229-a4ca8a86bcf0>\u001b[0m in \u001b[0;36m<module>\u001b[1;34m\u001b[0m\n\u001b[1;32m----> 1\u001b[1;33m \u001b[0mjieguo\u001b[0m\u001b[1;33m.\u001b[0m\u001b[0mdeposit\u001b[0m\u001b[1;33m(\u001b[0m\u001b[1;33m)\u001b[0m\u001b[1;33m\u001b[0m\u001b[1;33m\u001b[0m\u001b[0m\n\u001b[0m",
      "\u001b[1;32m<ipython-input-226-5a9a6ff1f514>\u001b[0m in \u001b[0;36mdeposit\u001b[1;34m(self)\u001b[0m\n\u001b[0;32m     23\u001b[0m                 \u001b[0myuelixi\u001b[0m\u001b[1;33m=\u001b[0m \u001b[0mcun\u001b[0m\u001b[1;33m*\u001b[0m\u001b[0mself\u001b[0m\u001b[1;33m.\u001b[0m\u001b[0mlilu\u001b[0m\u001b[1;33m*\u001b[0m\u001b[0myue\u001b[0m\u001b[1;33m+\u001b[0m\u001b[0mcun\u001b[0m\u001b[1;33m\u001b[0m\u001b[1;33m\u001b[0m\u001b[0m\n\u001b[0;32m     24\u001b[0m                 \u001b[0myue\u001b[0m\u001b[1;33m+=\u001b[0m\u001b[1;36m1\u001b[0m\u001b[1;33m\u001b[0m\u001b[1;33m\u001b[0m\u001b[0m\n\u001b[1;32m---> 25\u001b[1;33m             \u001b[0mprint\u001b[0m\u001b[1;33m(\u001b[0m\u001b[0mself\u001b[0m\u001b[1;33m.\u001b[0m\u001b[0mid_\u001b[0m\u001b[1;33m,\u001b[0m\u001b[0myue\u001b[0m\u001b[1;33m,\u001b[0m\u001b[0myuelilu\u001b[0m\u001b[1;33m,\u001b[0m\u001b[0myuelixi\u001b[0m\u001b[1;33m)\u001b[0m\u001b[1;33m\u001b[0m\u001b[1;33m\u001b[0m\u001b[0m\n\u001b[0m",
      "\u001b[1;31mUnboundLocalError\u001b[0m: local variable 'yuelilu' referenced before assignment"
     ]
    }
   ],
   "source": [
    "jieguo.deposit()"
   ]
  },
  {
   "cell_type": "markdown",
   "metadata": {},
   "source": [
    "- 3\n",
    "![](../Photo/93.png)"
   ]
  },
  {
   "cell_type": "code",
   "execution_count": 222,
   "metadata": {},
   "outputs": [],
   "source": [
    "#speed:1,slow    2,medium     3,dast\n",
    "#on 打开 false  open\n",
    "#radius半径5   10\n",
    "#color 颜色蓝 黄\n",
    "class Fan():\n",
    "    def __int__(self):\n",
    "        self.__speed='SLOW'\n",
    "        self.__on='False'\n",
    "        self.__radius=5\n",
    "        self.__color='blue'\n",
    "        print(self.__speed,self.__on,self.__radius,self.__color)\n",
    "    def yi(self):\n",
    "        self.__speed='dast'\n",
    "        self.__on='open'\n",
    "        self.__radius=10\n",
    "        self.__color='yellow'\n",
    "        print(self.__speed,self.__on,self.__radius,self.__color)\n",
    "    def er(self):\n",
    "        self.__speed='medium'\n",
    "        self.__on='False'\n",
    "        self.__radius=5\n",
    "        self.__color='blue'\n",
    "        print(self.__speed,self.__on,self.__radius,self.__color)"
   ]
  },
  {
   "cell_type": "code",
   "execution_count": 223,
   "metadata": {},
   "outputs": [],
   "source": [
    "jieguo= Fan()"
   ]
  },
  {
   "cell_type": "code",
   "execution_count": 224,
   "metadata": {},
   "outputs": [
    {
     "name": "stdout",
     "output_type": "stream",
     "text": [
      "dast open 10 yellow\n"
     ]
    }
   ],
   "source": [
    "jieguo.yi()"
   ]
  },
  {
   "cell_type": "code",
   "execution_count": 225,
   "metadata": {},
   "outputs": [
    {
     "name": "stdout",
     "output_type": "stream",
     "text": [
      "medium False 5 blue\n"
     ]
    }
   ],
   "source": [
    "jieguo.er()"
   ]
  },
  {
   "cell_type": "markdown",
   "metadata": {},
   "source": [
    "- 4\n",
    "![](../Photo/94.png)\n",
    "![](../Photo/95.png)"
   ]
  },
  {
   "cell_type": "code",
   "execution_count": 18,
   "metadata": {},
   "outputs": [],
   "source": [
    "#   n   边数   3\n",
    "#   side   边长     1\n",
    "#   x轴    0\n",
    "#   y轴     0\n",
    "#   方法 getperimeter   周长\n",
    "#   方法  getArea   面积\n",
    "import math\n",
    "class RegularPolygon:\n",
    "    def __init__ (self):\n",
    "        self.n=eval(input('请输入边数'))\n",
    "        self.side=eval(input('请输入边长'))\n",
    "    def zhouchang(self):\n",
    "        self.d=self.n*self.side\n",
    "        return self.d\n",
    "    def minji(self):\n",
    "        self.d=self.zhouchang()\n",
    "        s=(self.n*self.d*self.d)/4*math.tan(3.14/self.n)\n",
    "        print(s)"
   ]
  },
  {
   "cell_type": "code",
   "execution_count": 19,
   "metadata": {},
   "outputs": [
    {
     "name": "stdout",
     "output_type": "stream",
     "text": [
      "请输入边数4\n",
      "请输入边长1\n"
     ]
    }
   ],
   "source": [
    "jieguo=RegularPolygon()"
   ]
  },
  {
   "cell_type": "code",
   "execution_count": 20,
   "metadata": {},
   "outputs": [
    {
     "data": {
      "text/plain": [
       "4"
      ]
     },
     "execution_count": 20,
     "metadata": {},
     "output_type": "execute_result"
    }
   ],
   "source": [
    "jieguo.zhouchang()"
   ]
  },
  {
   "cell_type": "code",
   "execution_count": 21,
   "metadata": {},
   "outputs": [
    {
     "name": "stdout",
     "output_type": "stream",
     "text": [
      "15.987263841680683\n"
     ]
    }
   ],
   "source": [
    "jieguo.minji()"
   ]
  },
  {
   "cell_type": "markdown",
   "metadata": {},
   "source": [
    "- 5\n",
    "![](../Photo/96.png)"
   ]
  },
  {
   "cell_type": "code",
   "execution_count": 24,
   "metadata": {},
   "outputs": [],
   "source": [
    "#类名 LinearEquation\n",
    "#a,b,c,d,e,f\n",
    "class LinearEquation:\n",
    "    def __init__ (self):\n",
    "        self.a=eval(input('请输入数值'))\n",
    "        self.b=eval(input('请输入数值'))\n",
    "        self.c=eval(input('请输入数值'))\n",
    "        self.d=eval(input('请输入数值'))\n",
    "        self.e=eval(input('请输入数值'))\n",
    "        self.f=eval(input('请输入数值'))\n",
    "    def isSolvable(self):\n",
    "        if (self.a*self.b)-(self.b*self.c)==0:\n",
    "            print('无解啦啦啦啦')\n",
    "        else:\n",
    "            print('ture')\n",
    "    def X(self):\n",
    "        x=((self.e*self.d)-(self.b*self.f))/((self.a*self.d)-(self.b*self.c))\n",
    "        print(x)\n",
    "    def Y(self):\n",
    "        y=((self.a*self.f)-(self.e*self.c))/((self.a*self.d)-(self.b*self.c))\n",
    "        print(y)"
   ]
  },
  {
   "cell_type": "code",
   "execution_count": 25,
   "metadata": {},
   "outputs": [
    {
     "name": "stdout",
     "output_type": "stream",
     "text": [
      "请输入数值1\n",
      "请输入数值2\n",
      "请输入数值3\n",
      "请输入数值4\n",
      "请输入数值5\n",
      "请输入数值6\n"
     ]
    }
   ],
   "source": [
    "jieguo=LinearEquation()"
   ]
  },
  {
   "cell_type": "code",
   "execution_count": 26,
   "metadata": {},
   "outputs": [
    {
     "name": "stdout",
     "output_type": "stream",
     "text": [
      "-4.0\n"
     ]
    }
   ],
   "source": [
    "jieguo.X()"
   ]
  },
  {
   "cell_type": "code",
   "execution_count": 27,
   "metadata": {},
   "outputs": [
    {
     "name": "stdout",
     "output_type": "stream",
     "text": [
      "4.5\n"
     ]
    }
   ],
   "source": [
    "jieguo.Y()"
   ]
  },
  {
   "cell_type": "markdown",
   "metadata": {},
   "source": [
    "- 6\n",
    "![](../Photo/97.png)"
   ]
  },
  {
   "cell_type": "code",
   "execution_count": 28,
   "metadata": {},
   "outputs": [],
   "source": [
    "def cross_point(line1,line2):#计算交点函数\n",
    "    x1=line1[0]#取四点坐标\n",
    "    y1=line1[1]\n",
    "    x2=line1[2]\n",
    "    y2=line1[3]\n",
    "    \n",
    "    x3=line2[0]\n",
    "    y3=line2[1]\n",
    "    x4=line2[2]\n",
    "    y4=line2[3]\n",
    "    \n",
    "    k1=(y2-y1)*1.0/(x2-x1)#计算k1,由于点均为整数，需要进行浮点数转化\n",
    "    b1=y1*1.0-x1*k1*1.0#整型转浮点型是关键\n",
    "    if (x4-x3)==0:#L2直线斜率不存在操作\n",
    "        k2=None\n",
    "        b2=0\n",
    "    else:\n",
    "        k2=(y4-y3)*1.0/(x4-x3)#斜率存在操作\n",
    "        b2=y3*1.0-x3*k2*1.0\n",
    "    if k2==None:\n",
    "        x=x3\n",
    "    else:\n",
    "        x=(b2-b1)*1.0/(k1-k2)\n",
    "    y=k1*x*1.0+b1*1.0\n",
    "    return [x,y]"
   ]
  },
  {
   "cell_type": "code",
   "execution_count": 30,
   "metadata": {},
   "outputs": [
    {
     "name": "stdout",
     "output_type": "stream",
     "text": [
      "[0.0, 0.0]\n"
     ]
    }
   ],
   "source": [
    "line1=[1,1,-1,-1]\n",
    "line2=[-1,1,1,-1]\n",
    "print (cross_point(line1, line2))"
   ]
  },
  {
   "cell_type": "markdown",
   "metadata": {},
   "source": [
    "- 7\n",
    "![](../Photo/98.png)"
   ]
  }
 ],
 "metadata": {
  "kernelspec": {
   "display_name": "Python 3",
   "language": "python",
   "name": "python3"
  },
  "language_info": {
   "codemirror_mode": {
    "name": "ipython",
    "version": 3
   },
   "file_extension": ".py",
   "mimetype": "text/x-python",
   "name": "python",
   "nbconvert_exporter": "python",
   "pygments_lexer": "ipython3",
   "version": "3.7.3"
  }
 },
 "nbformat": 4,
 "nbformat_minor": 2
}
